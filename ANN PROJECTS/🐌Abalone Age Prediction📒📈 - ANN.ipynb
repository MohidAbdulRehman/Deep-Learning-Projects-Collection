{
  "nbformat": 4,
  "nbformat_minor": 0,
  "metadata": {
    "colab": {
      "provenance": []
    },
    "kernelspec": {
      "name": "python3",
      "display_name": "Python 3"
    },
    "language_info": {
      "name": "python"
    }
  },
  "cells": [
    {
      "cell_type": "code",
      "execution_count": 14,
      "metadata": {
        "id": "IYgAhDBkY0CZ"
      },
      "outputs": [],
      "source": [
        "import pandas as pd\n",
        "import seaborn as sns\n",
        "import matplotlib.pyplot as plt\n",
        "from sklearn.model_selection import train_test_split\n",
        "from sklearn.preprocessing import StandardScaler\n",
        "from sklearn.preprocessing import OneHotEncoder\n",
        "from sklearn.metrics import mean_absolute_error, mean_squared_error, r2_score\n",
        "import tensorflow\n",
        "from tensorflow import keras\n",
        "from tensorflow.keras.layers import Dense, Dropout, BatchNormalization\n",
        "from tensorflow.keras.models import Sequential\n",
        "import warnings\n",
        "warnings.filterwarnings('ignore')"
      ]
    },
    {
      "cell_type": "code",
      "source": [
        "column_names = ['Sex', 'Length', 'Diameter', 'Height', 'Whole weight', 'Shucked weight', 'Viscera weight', 'Shell weight', 'Rings']\n",
        "df = pd.read_csv('/content/abalone.data', names=column_names, index_col=False)"
      ],
      "metadata": {
        "id": "B6kLeIXRY9uS"
      },
      "execution_count": 4,
      "outputs": []
    },
    {
      "cell_type": "code",
      "source": [
        "df.shape"
      ],
      "metadata": {
        "colab": {
          "base_uri": "https://localhost:8080/",
          "height": 0
        },
        "id": "ShxS9OhMZFfV",
        "outputId": "20bbb379-6ae4-4311-aca7-fbb835cd5d48"
      },
      "execution_count": 5,
      "outputs": [
        {
          "output_type": "execute_result",
          "data": {
            "text/plain": [
              "(4177, 9)"
            ]
          },
          "metadata": {},
          "execution_count": 5
        }
      ]
    },
    {
      "cell_type": "code",
      "source": [
        "df.isnull().sum()"
      ],
      "metadata": {
        "colab": {
          "base_uri": "https://localhost:8080/",
          "height": 0
        },
        "id": "BOr8TgbzZniX",
        "outputId": "5cfc86cf-f0d9-4fb4-d2e2-a0c064dad12d"
      },
      "execution_count": 6,
      "outputs": [
        {
          "output_type": "execute_result",
          "data": {
            "text/plain": [
              "Sex               0\n",
              "Length            0\n",
              "Diameter          0\n",
              "Height            0\n",
              "Whole weight      0\n",
              "Shucked weight    0\n",
              "Viscera weight    0\n",
              "Shell weight      0\n",
              "Rings             0\n",
              "dtype: int64"
            ]
          },
          "metadata": {},
          "execution_count": 6
        }
      ]
    },
    {
      "cell_type": "code",
      "source": [
        "df.duplicated().sum()"
      ],
      "metadata": {
        "colab": {
          "base_uri": "https://localhost:8080/",
          "height": 0
        },
        "id": "tzyXFBB3ZpDR",
        "outputId": "7d2aff58-13c5-4176-8e84-1aabcaed8e6d"
      },
      "execution_count": 7,
      "outputs": [
        {
          "output_type": "execute_result",
          "data": {
            "text/plain": [
              "0"
            ]
          },
          "metadata": {},
          "execution_count": 7
        }
      ]
    },
    {
      "cell_type": "code",
      "source": [
        "df.info()"
      ],
      "metadata": {
        "colab": {
          "base_uri": "https://localhost:8080/",
          "height": 0
        },
        "id": "NFJcQFBHZrvn",
        "outputId": "b2dd73fe-a33d-44ed-81d1-11f1eb712ed0"
      },
      "execution_count": 8,
      "outputs": [
        {
          "output_type": "stream",
          "name": "stdout",
          "text": [
            "<class 'pandas.core.frame.DataFrame'>\n",
            "RangeIndex: 4177 entries, 0 to 4176\n",
            "Data columns (total 9 columns):\n",
            " #   Column          Non-Null Count  Dtype  \n",
            "---  ------          --------------  -----  \n",
            " 0   Sex             4177 non-null   object \n",
            " 1   Length          4177 non-null   float64\n",
            " 2   Diameter        4177 non-null   float64\n",
            " 3   Height          4177 non-null   float64\n",
            " 4   Whole weight    4177 non-null   float64\n",
            " 5   Shucked weight  4177 non-null   float64\n",
            " 6   Viscera weight  4177 non-null   float64\n",
            " 7   Shell weight    4177 non-null   float64\n",
            " 8   Rings           4177 non-null   int64  \n",
            "dtypes: float64(7), int64(1), object(1)\n",
            "memory usage: 293.8+ KB\n"
          ]
        }
      ]
    },
    {
      "cell_type": "code",
      "source": [
        "onehot_encoder = OneHotEncoder()\n",
        "sex_encoded = onehot_encoder.fit_transform(df[['Sex']])\n",
        "sex_encoded_df = pd.DataFrame(sex_encoded.toarray(), columns=onehot_encoder.get_feature_names_out(['Sex']))\n",
        "df_encoded = pd.concat([df.drop(columns=['Sex']), sex_encoded_df], axis=1)"
      ],
      "metadata": {
        "id": "E06Ix3SZZtwP"
      },
      "execution_count": 9,
      "outputs": []
    },
    {
      "cell_type": "code",
      "source": [
        "X = df_encoded.drop('Rings', axis = 1)\n",
        "y = df_encoded['Rings']"
      ],
      "metadata": {
        "id": "8EEWHVxLZ7bN"
      },
      "execution_count": 10,
      "outputs": []
    },
    {
      "cell_type": "code",
      "source": [
        "X_train, X_test, y_train, y_test = train_test_split(X, y, test_size = 0.2, random_state = 42)"
      ],
      "metadata": {
        "id": "UeTPg4NmZ-9h"
      },
      "execution_count": 11,
      "outputs": []
    },
    {
      "cell_type": "code",
      "source": [
        "scaler = StandardScaler()\n",
        "X_train_scaled = scaler.fit_transform(X_train)\n",
        "X_test_scaled = scaler.transform(X_test)"
      ],
      "metadata": {
        "id": "77wwgVCSaHt-"
      },
      "execution_count": 12,
      "outputs": []
    },
    {
      "cell_type": "code",
      "source": [
        "model=Sequential()\n",
        "model.add(Dense(24, activation=\"relu\", input_dim= X_train_scaled.shape[1]))\n",
        "model.add(Dense(16, activation=\"relu\"))\n",
        "model.add(Dense(8, activation=\"relu\"))\n",
        "model.add(Dropout(0.2))\n",
        "model.add(Dense(3,activation=\"linear\"))"
      ],
      "metadata": {
        "id": "je6ONax-aJ8T"
      },
      "execution_count": 38,
      "outputs": []
    },
    {
      "cell_type": "code",
      "source": [
        "model.compile(optimizer = 'Adam', loss = 'mse', metrics = ['mae'])"
      ],
      "metadata": {
        "id": "uBFko-Knaf70"
      },
      "execution_count": 39,
      "outputs": []
    },
    {
      "cell_type": "code",
      "source": [
        "history = model.fit(X_train_scaled, y_train, validation_data = (X_test_scaled, y_test), epochs = 100)"
      ],
      "metadata": {
        "colab": {
          "base_uri": "https://localhost:8080/",
          "height": 0
        },
        "id": "aRHsB6QIaoKM",
        "outputId": "e7f75c80-46bc-43fb-d802-e718c5b4fdbd"
      },
      "execution_count": 40,
      "outputs": [
        {
          "output_type": "stream",
          "name": "stdout",
          "text": [
            "Epoch 1/100\n",
            "105/105 [==============================] - 3s 9ms/step - loss: 92.9719 - mae: 9.0427 - val_loss: 55.0132 - val_mae: 6.6230\n",
            "Epoch 2/100\n",
            "105/105 [==============================] - 1s 5ms/step - loss: 39.3168 - mae: 4.9362 - val_loss: 19.0952 - val_mae: 3.3812\n",
            "Epoch 3/100\n",
            "105/105 [==============================] - 1s 6ms/step - loss: 27.1738 - mae: 3.7929 - val_loss: 10.7549 - val_mae: 2.3112\n",
            "Epoch 4/100\n",
            "105/105 [==============================] - 1s 7ms/step - loss: 22.3925 - mae: 3.4008 - val_loss: 6.8875 - val_mae: 1.7491\n",
            "Epoch 5/100\n",
            "105/105 [==============================] - 1s 10ms/step - loss: 18.0899 - mae: 3.1601 - val_loss: 6.5443 - val_mae: 1.7190\n",
            "Epoch 6/100\n",
            "105/105 [==============================] - 1s 9ms/step - loss: 16.5424 - mae: 2.9971 - val_loss: 6.1696 - val_mae: 1.6626\n",
            "Epoch 7/100\n",
            "105/105 [==============================] - 1s 10ms/step - loss: 14.0932 - mae: 2.8579 - val_loss: 6.0084 - val_mae: 1.6466\n",
            "Epoch 8/100\n",
            "105/105 [==============================] - 1s 7ms/step - loss: 14.8915 - mae: 2.8210 - val_loss: 5.5072 - val_mae: 1.5896\n",
            "Epoch 9/100\n",
            "105/105 [==============================] - 1s 6ms/step - loss: 14.4901 - mae: 2.8178 - val_loss: 6.0984 - val_mae: 1.6433\n",
            "Epoch 10/100\n",
            "105/105 [==============================] - 1s 5ms/step - loss: 13.4989 - mae: 2.7529 - val_loss: 5.2954 - val_mae: 1.5780\n",
            "Epoch 11/100\n",
            "105/105 [==============================] - 1s 5ms/step - loss: 12.5640 - mae: 2.6778 - val_loss: 5.2982 - val_mae: 1.5666\n",
            "Epoch 12/100\n",
            "105/105 [==============================] - 1s 6ms/step - loss: 13.1245 - mae: 2.6931 - val_loss: 5.3675 - val_mae: 1.5682\n",
            "Epoch 13/100\n",
            "105/105 [==============================] - 1s 6ms/step - loss: 12.8915 - mae: 2.6982 - val_loss: 5.6109 - val_mae: 1.6483\n",
            "Epoch 14/100\n",
            "105/105 [==============================] - 0s 5ms/step - loss: 12.7026 - mae: 2.7144 - val_loss: 5.3884 - val_mae: 1.5749\n",
            "Epoch 15/100\n",
            "105/105 [==============================] - 0s 5ms/step - loss: 12.1614 - mae: 2.6699 - val_loss: 5.3539 - val_mae: 1.5675\n",
            "Epoch 16/100\n",
            "105/105 [==============================] - 1s 5ms/step - loss: 12.7686 - mae: 2.6646 - val_loss: 5.6584 - val_mae: 1.5977\n",
            "Epoch 17/100\n",
            "105/105 [==============================] - 0s 4ms/step - loss: 12.1023 - mae: 2.6294 - val_loss: 5.4887 - val_mae: 1.5785\n",
            "Epoch 18/100\n",
            "105/105 [==============================] - 0s 4ms/step - loss: 11.8038 - mae: 2.6059 - val_loss: 5.3504 - val_mae: 1.5741\n",
            "Epoch 19/100\n",
            "105/105 [==============================] - 0s 5ms/step - loss: 12.3423 - mae: 2.6505 - val_loss: 5.1050 - val_mae: 1.5431\n",
            "Epoch 20/100\n",
            "105/105 [==============================] - 0s 5ms/step - loss: 11.9959 - mae: 2.6151 - val_loss: 5.0759 - val_mae: 1.5589\n",
            "Epoch 21/100\n",
            "105/105 [==============================] - 1s 5ms/step - loss: 11.9774 - mae: 2.6062 - val_loss: 5.2957 - val_mae: 1.5709\n",
            "Epoch 22/100\n",
            "105/105 [==============================] - 1s 12ms/step - loss: 12.4333 - mae: 2.6352 - val_loss: 5.1127 - val_mae: 1.5382\n",
            "Epoch 23/100\n",
            "105/105 [==============================] - 1s 5ms/step - loss: 11.0267 - mae: 2.5129 - val_loss: 5.1534 - val_mae: 1.5564\n",
            "Epoch 24/100\n",
            "105/105 [==============================] - 0s 4ms/step - loss: 11.1248 - mae: 2.5524 - val_loss: 5.6457 - val_mae: 1.5932\n",
            "Epoch 25/100\n",
            "105/105 [==============================] - 1s 6ms/step - loss: 11.4633 - mae: 2.5638 - val_loss: 5.1931 - val_mae: 1.5503\n",
            "Epoch 26/100\n",
            "105/105 [==============================] - 1s 7ms/step - loss: 10.9828 - mae: 2.5505 - val_loss: 5.0512 - val_mae: 1.5392\n",
            "Epoch 27/100\n",
            "105/105 [==============================] - 1s 7ms/step - loss: 10.7573 - mae: 2.4651 - val_loss: 5.0241 - val_mae: 1.5341\n",
            "Epoch 28/100\n",
            "105/105 [==============================] - 1s 7ms/step - loss: 11.0296 - mae: 2.4907 - val_loss: 5.0800 - val_mae: 1.5399\n",
            "Epoch 29/100\n",
            "105/105 [==============================] - 1s 7ms/step - loss: 10.6304 - mae: 2.4481 - val_loss: 5.0641 - val_mae: 1.5345\n",
            "Epoch 30/100\n",
            "105/105 [==============================] - 0s 4ms/step - loss: 10.1446 - mae: 2.4201 - val_loss: 5.1202 - val_mae: 1.5412\n",
            "Epoch 31/100\n",
            "105/105 [==============================] - 0s 4ms/step - loss: 10.4650 - mae: 2.4637 - val_loss: 5.3052 - val_mae: 1.5670\n",
            "Epoch 32/100\n",
            "105/105 [==============================] - 0s 5ms/step - loss: 10.6306 - mae: 2.4450 - val_loss: 4.9436 - val_mae: 1.5282\n",
            "Epoch 33/100\n",
            "105/105 [==============================] - 1s 5ms/step - loss: 10.6517 - mae: 2.4546 - val_loss: 5.1070 - val_mae: 1.5491\n",
            "Epoch 34/100\n",
            "105/105 [==============================] - 0s 4ms/step - loss: 10.8576 - mae: 2.4637 - val_loss: 4.9515 - val_mae: 1.5376\n",
            "Epoch 35/100\n",
            "105/105 [==============================] - 0s 4ms/step - loss: 10.5677 - mae: 2.4276 - val_loss: 4.9760 - val_mae: 1.5381\n",
            "Epoch 36/100\n",
            "105/105 [==============================] - 0s 4ms/step - loss: 10.4501 - mae: 2.4265 - val_loss: 4.8281 - val_mae: 1.5089\n",
            "Epoch 37/100\n",
            "105/105 [==============================] - 1s 5ms/step - loss: 10.1714 - mae: 2.3796 - val_loss: 4.9956 - val_mae: 1.5229\n",
            "Epoch 38/100\n",
            "105/105 [==============================] - 0s 4ms/step - loss: 10.2181 - mae: 2.3674 - val_loss: 4.7904 - val_mae: 1.5086\n",
            "Epoch 39/100\n",
            "105/105 [==============================] - 0s 4ms/step - loss: 10.2138 - mae: 2.4114 - val_loss: 4.9266 - val_mae: 1.5164\n",
            "Epoch 40/100\n",
            "105/105 [==============================] - 1s 5ms/step - loss: 9.8298 - mae: 2.3120 - val_loss: 5.1685 - val_mae: 1.5362\n",
            "Epoch 41/100\n",
            "105/105 [==============================] - 0s 4ms/step - loss: 9.9356 - mae: 2.3279 - val_loss: 5.3776 - val_mae: 1.5781\n",
            "Epoch 42/100\n",
            "105/105 [==============================] - 0s 4ms/step - loss: 9.3365 - mae: 2.3011 - val_loss: 4.8035 - val_mae: 1.5018\n",
            "Epoch 43/100\n",
            "105/105 [==============================] - 0s 5ms/step - loss: 9.3966 - mae: 2.2946 - val_loss: 5.0309 - val_mae: 1.5339\n",
            "Epoch 44/100\n",
            "105/105 [==============================] - 0s 4ms/step - loss: 8.9673 - mae: 2.2695 - val_loss: 5.3973 - val_mae: 1.5635\n",
            "Epoch 45/100\n",
            "105/105 [==============================] - 1s 5ms/step - loss: 9.9111 - mae: 2.3030 - val_loss: 5.5327 - val_mae: 1.5776\n",
            "Epoch 46/100\n",
            "105/105 [==============================] - 0s 4ms/step - loss: 9.5010 - mae: 2.2727 - val_loss: 5.2102 - val_mae: 1.5365\n",
            "Epoch 47/100\n",
            "105/105 [==============================] - 0s 5ms/step - loss: 9.6761 - mae: 2.2760 - val_loss: 5.6010 - val_mae: 1.5831\n",
            "Epoch 48/100\n",
            "105/105 [==============================] - 0s 4ms/step - loss: 9.3580 - mae: 2.2858 - val_loss: 4.8139 - val_mae: 1.4966\n",
            "Epoch 49/100\n",
            "105/105 [==============================] - 0s 5ms/step - loss: 9.5546 - mae: 2.2894 - val_loss: 4.8348 - val_mae: 1.5043\n",
            "Epoch 50/100\n",
            "105/105 [==============================] - 1s 6ms/step - loss: 8.7415 - mae: 2.1979 - val_loss: 4.8048 - val_mae: 1.4986\n",
            "Epoch 51/100\n",
            "105/105 [==============================] - 1s 6ms/step - loss: 9.0375 - mae: 2.2401 - val_loss: 4.9000 - val_mae: 1.5035\n",
            "Epoch 52/100\n",
            "105/105 [==============================] - 1s 8ms/step - loss: 8.7140 - mae: 2.1739 - val_loss: 5.0103 - val_mae: 1.5108\n",
            "Epoch 53/100\n",
            "105/105 [==============================] - 1s 6ms/step - loss: 8.9785 - mae: 2.1964 - val_loss: 5.0504 - val_mae: 1.5244\n",
            "Epoch 54/100\n",
            "105/105 [==============================] - 1s 7ms/step - loss: 9.0122 - mae: 2.2059 - val_loss: 4.8846 - val_mae: 1.5025\n",
            "Epoch 55/100\n",
            "105/105 [==============================] - 1s 6ms/step - loss: 8.8036 - mae: 2.1843 - val_loss: 5.1264 - val_mae: 1.5327\n",
            "Epoch 56/100\n",
            "105/105 [==============================] - 0s 4ms/step - loss: 8.3903 - mae: 2.1360 - val_loss: 5.1789 - val_mae: 1.5471\n",
            "Epoch 57/100\n",
            "105/105 [==============================] - 1s 5ms/step - loss: 8.3822 - mae: 2.1362 - val_loss: 4.6620 - val_mae: 1.4827\n",
            "Epoch 58/100\n",
            "105/105 [==============================] - 1s 5ms/step - loss: 8.5447 - mae: 2.1640 - val_loss: 4.5508 - val_mae: 1.4874\n",
            "Epoch 59/100\n",
            "105/105 [==============================] - 1s 5ms/step - loss: 8.3263 - mae: 2.1308 - val_loss: 4.7227 - val_mae: 1.4864\n",
            "Epoch 60/100\n",
            "105/105 [==============================] - 0s 4ms/step - loss: 7.9505 - mae: 2.0701 - val_loss: 4.8797 - val_mae: 1.5067\n",
            "Epoch 61/100\n",
            "105/105 [==============================] - 0s 5ms/step - loss: 8.5803 - mae: 2.1289 - val_loss: 4.7929 - val_mae: 1.4908\n",
            "Epoch 62/100\n",
            "105/105 [==============================] - 1s 5ms/step - loss: 8.1838 - mae: 2.1014 - val_loss: 4.9353 - val_mae: 1.5095\n",
            "Epoch 63/100\n",
            "105/105 [==============================] - 1s 6ms/step - loss: 7.8879 - mae: 2.0737 - val_loss: 4.7963 - val_mae: 1.4882\n",
            "Epoch 64/100\n",
            "105/105 [==============================] - 1s 6ms/step - loss: 7.8389 - mae: 2.0363 - val_loss: 4.6113 - val_mae: 1.4801\n",
            "Epoch 65/100\n",
            "105/105 [==============================] - 1s 5ms/step - loss: 7.9472 - mae: 2.0643 - val_loss: 4.8929 - val_mae: 1.5069\n",
            "Epoch 66/100\n",
            "105/105 [==============================] - 0s 4ms/step - loss: 7.6976 - mae: 2.0073 - val_loss: 4.8034 - val_mae: 1.4885\n",
            "Epoch 67/100\n",
            "105/105 [==============================] - 1s 5ms/step - loss: 7.8988 - mae: 2.0586 - val_loss: 4.7478 - val_mae: 1.4866\n",
            "Epoch 68/100\n",
            "105/105 [==============================] - 0s 5ms/step - loss: 7.7980 - mae: 2.0261 - val_loss: 4.7017 - val_mae: 1.4836\n",
            "Epoch 69/100\n",
            "105/105 [==============================] - 1s 5ms/step - loss: 7.6161 - mae: 2.0204 - val_loss: 4.6525 - val_mae: 1.4755\n",
            "Epoch 70/100\n",
            "105/105 [==============================] - 1s 5ms/step - loss: 7.5539 - mae: 2.0227 - val_loss: 4.5454 - val_mae: 1.4801\n",
            "Epoch 71/100\n",
            "105/105 [==============================] - 0s 4ms/step - loss: 7.5618 - mae: 1.9992 - val_loss: 4.7470 - val_mae: 1.4863\n",
            "Epoch 72/100\n",
            "105/105 [==============================] - 1s 5ms/step - loss: 7.3800 - mae: 1.9875 - val_loss: 4.8824 - val_mae: 1.4948\n",
            "Epoch 73/100\n",
            "105/105 [==============================] - 1s 5ms/step - loss: 7.3229 - mae: 1.9590 - val_loss: 4.7073 - val_mae: 1.4804\n",
            "Epoch 74/100\n",
            "105/105 [==============================] - 1s 7ms/step - loss: 7.3926 - mae: 1.9823 - val_loss: 4.6042 - val_mae: 1.4888\n",
            "Epoch 75/100\n",
            "105/105 [==============================] - 1s 8ms/step - loss: 6.9660 - mae: 1.9280 - val_loss: 4.5008 - val_mae: 1.4772\n",
            "Epoch 76/100\n",
            "105/105 [==============================] - 1s 7ms/step - loss: 6.6976 - mae: 1.8528 - val_loss: 4.6219 - val_mae: 1.4799\n",
            "Epoch 77/100\n",
            "105/105 [==============================] - 1s 7ms/step - loss: 6.1885 - mae: 1.8133 - val_loss: 4.5027 - val_mae: 1.4999\n",
            "Epoch 78/100\n",
            "105/105 [==============================] - 1s 6ms/step - loss: 6.6310 - mae: 1.8491 - val_loss: 4.4695 - val_mae: 1.4860\n",
            "Epoch 79/100\n",
            "105/105 [==============================] - 1s 5ms/step - loss: 6.4671 - mae: 1.8393 - val_loss: 4.6300 - val_mae: 1.4774\n",
            "Epoch 80/100\n",
            "105/105 [==============================] - 0s 5ms/step - loss: 6.1773 - mae: 1.8126 - val_loss: 4.5271 - val_mae: 1.4693\n",
            "Epoch 81/100\n",
            "105/105 [==============================] - 1s 5ms/step - loss: 6.7014 - mae: 1.8535 - val_loss: 4.5545 - val_mae: 1.4735\n",
            "Epoch 82/100\n",
            "105/105 [==============================] - 0s 4ms/step - loss: 6.4225 - mae: 1.8287 - val_loss: 4.6081 - val_mae: 1.4810\n",
            "Epoch 83/100\n",
            "105/105 [==============================] - 0s 4ms/step - loss: 5.9452 - mae: 1.7584 - val_loss: 4.6347 - val_mae: 1.4733\n",
            "Epoch 84/100\n",
            "105/105 [==============================] - 1s 5ms/step - loss: 6.1853 - mae: 1.7687 - val_loss: 4.4979 - val_mae: 1.4674\n",
            "Epoch 85/100\n",
            "105/105 [==============================] - 1s 6ms/step - loss: 6.1458 - mae: 1.7841 - val_loss: 4.6012 - val_mae: 1.4759\n",
            "Epoch 86/100\n",
            "105/105 [==============================] - 1s 7ms/step - loss: 5.9297 - mae: 1.7588 - val_loss: 4.7146 - val_mae: 1.4814\n",
            "Epoch 87/100\n",
            "105/105 [==============================] - 1s 5ms/step - loss: 5.8666 - mae: 1.7650 - val_loss: 4.6430 - val_mae: 1.4758\n",
            "Epoch 88/100\n",
            "105/105 [==============================] - 1s 5ms/step - loss: 5.8865 - mae: 1.7706 - val_loss: 4.6970 - val_mae: 1.4821\n",
            "Epoch 89/100\n",
            "105/105 [==============================] - 1s 5ms/step - loss: 6.1526 - mae: 1.7496 - val_loss: 4.6597 - val_mae: 1.4872\n",
            "Epoch 90/100\n",
            "105/105 [==============================] - 1s 7ms/step - loss: 6.1935 - mae: 1.7530 - val_loss: 4.5405 - val_mae: 1.4808\n",
            "Epoch 91/100\n",
            "105/105 [==============================] - 0s 4ms/step - loss: 5.8990 - mae: 1.7436 - val_loss: 4.6898 - val_mae: 1.4830\n",
            "Epoch 92/100\n",
            "105/105 [==============================] - 1s 6ms/step - loss: 6.0187 - mae: 1.7625 - val_loss: 4.4837 - val_mae: 1.4867\n",
            "Epoch 93/100\n",
            "105/105 [==============================] - 1s 10ms/step - loss: 6.0531 - mae: 1.7584 - val_loss: 4.6012 - val_mae: 1.4719\n",
            "Epoch 94/100\n",
            "105/105 [==============================] - 1s 8ms/step - loss: 5.7447 - mae: 1.7115 - val_loss: 4.7453 - val_mae: 1.4847\n",
            "Epoch 95/100\n",
            "105/105 [==============================] - 1s 9ms/step - loss: 6.1023 - mae: 1.7496 - val_loss: 4.4707 - val_mae: 1.4688\n",
            "Epoch 96/100\n",
            "105/105 [==============================] - 1s 6ms/step - loss: 5.9615 - mae: 1.7226 - val_loss: 4.4482 - val_mae: 1.4666\n",
            "Epoch 97/100\n",
            "105/105 [==============================] - 0s 4ms/step - loss: 5.9339 - mae: 1.7369 - val_loss: 4.4749 - val_mae: 1.4750\n",
            "Epoch 98/100\n",
            "105/105 [==============================] - 0s 4ms/step - loss: 6.0070 - mae: 1.7116 - val_loss: 4.5795 - val_mae: 1.4717\n",
            "Epoch 99/100\n",
            "105/105 [==============================] - 0s 4ms/step - loss: 5.9568 - mae: 1.7054 - val_loss: 4.7592 - val_mae: 1.4968\n",
            "Epoch 100/100\n",
            "105/105 [==============================] - 0s 3ms/step - loss: 5.8435 - mae: 1.7082 - val_loss: 4.7887 - val_mae: 1.4805\n"
          ]
        }
      ]
    },
    {
      "cell_type": "code",
      "source": [
        "sns.set(style=\"darkgrid\")\n",
        "sns.lineplot(history.history['loss'], label='Training Loss')\n",
        "sns.lineplot(history.history['val_loss'], label='Testing Loss')\n",
        "plt.ylabel('loss')\n",
        "plt.xlabel('Epochs')\n",
        "plt.legend()\n",
        "plt.show()"
      ],
      "metadata": {
        "colab": {
          "base_uri": "https://localhost:8080/",
          "height": 458
        },
        "id": "9Z4rfvCsatBE",
        "outputId": "9cb74337-0df9-440b-a9e9-4b4c8c6cd66b"
      },
      "execution_count": 41,
      "outputs": [
        {
          "output_type": "display_data",
          "data": {
            "text/plain": [
              "<Figure size 640x480 with 1 Axes>"
            ],
            "image/png": "[encoded data removed]"
          },
          "metadata": {}
        }
      ]
    },
    {
      "cell_type": "code",
      "source": [
        "# Evaluate the model on the testing set\n",
        "loss_test, mse_test = model.evaluate(X_test, y_test, verbose=0)\n",
        "print('Testing Loss: %.2f' % loss_test)\n",
        "print('Mean Squared Error (MSE) on Testing Data: %.2f' % mse_test)\n",
        "\n",
        "# Evaluate the model on the training set\n",
        "loss_train, mse_train = model.evaluate(X_train, y_train, verbose=0)\n",
        "print(\"*\" * 30)\n",
        "print('Training Loss: %.2f' % loss_train)\n",
        "print('Mean Squared Error (MSE) on Training Data: %.2f' % mse_train)"
      ],
      "metadata": {
        "colab": {
          "base_uri": "https://localhost:8080/",
          "height": 0
        },
        "id": "4kcnMONpbWk5",
        "outputId": "fae6bfee-a486-4f8f-ac73-3c8dcb74a409"
      },
      "execution_count": 42,
      "outputs": [
        {
          "output_type": "stream",
          "name": "stdout",
          "text": [
            "Testing Loss: 11.18\n",
            "Mean Squared Error (MSE) on Testing Data: 2.91\n",
            "******************************\n",
            "Training Loss: 10.68\n",
            "Mean Squared Error (MSE) on Training Data: 2.83\n"
          ]
        }
      ]
    }
  ]
}