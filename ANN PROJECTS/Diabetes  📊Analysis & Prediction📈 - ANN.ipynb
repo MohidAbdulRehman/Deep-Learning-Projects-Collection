{
  "nbformat": 4,
  "nbformat_minor": 0,
  "metadata": {
    "colab": {
      "provenance": []
    },
    "kernelspec": {
      "name": "python3",
      "display_name": "Python 3"
    },
    "language_info": {
      "name": "python"
    }
  },
  "cells": [
    {
      "cell_type": "code",
      "execution_count": 39,
      "metadata": {
        "id": "arhJO6z7nIyB"
      },
      "outputs": [],
      "source": [
        "import pandas as pd\n",
        "import numpy as np\n",
        "import tensorflow\n",
        "from tensorflow import keras\n",
        "from keras.models import Sequential\n",
        "from keras.layers import Dense, Dropout, BatchNormalization\n",
        "from sklearn.model_selection import train_test_split\n",
        "import seaborn as sns\n",
        "import matplotlib.pyplot as plt\n",
        "%matplotlib inline\n",
        "from sklearn.preprocessing import MinMaxScaler"
      ]
    },
    {
      "cell_type": "code",
      "source": [
        "# Read the csv file\n",
        "diab = pd.read_csv(\"/content/diabetes.csv\")"
      ],
      "metadata": {
        "id": "Ac1jJsndo4Iz"
      },
      "execution_count": null,
      "outputs": []
    },
    {
      "cell_type": "code",
      "source": [
        "# Display the first few rows of the DataFrame for initial data exploration\n",
        "diab.head()"
      ],
      "metadata": {
        "id": "DvSKd29Io8DU",
        "colab": {
          "base_uri": "https://localhost:8080/",
          "height": 206
        },
        "outputId": "4bf51425-80b2-4e9e-f0c6-abaca99a4017"
      },
      "execution_count": 6,
      "outputs": [
        {
          "output_type": "execute_result",
          "data": {
            "text/plain": [
              "   Pregnancies  Glucose  BloodPressure  SkinThickness  Insulin   BMI  \\\n",
              "0            6      148             72             35        0  33.6   \n",
              "1            1       85             66             29        0  26.6   \n",
              "2            8      183             64              0        0  23.3   \n",
              "3            1       89             66             23       94  28.1   \n",
              "4            0      137             40             35      168  43.1   \n",
              "\n",
              "   DiabetesPedigreeFunction  Age  Outcome  \n",
              "0                     0.627   50        1  \n",
              "1                     0.351   31        0  \n",
              "2                     0.672   32        1  \n",
              "3                     0.167   21        0  \n",
              "4                     2.288   33        1  "
            ],
            "text/html": [
              "\n",
              "  <div id=\"df-73986bed-be63-4461-9f1f-baeaacac7f9e\" class=\"colab-df-container\">\n",
              "    <div>\n",
              "<style scoped>\n",
              "    .dataframe tbody tr th:only-of-type {\n",
              "        vertical-align: middle;\n",
              "    }\n",
              "\n",
              "    .dataframe tbody tr th {\n",
              "        vertical-align: top;\n",
              "    }\n",
              "\n",
              "    .dataframe thead th {\n",
              "        text-align: right;\n",
              "    }\n",
              "</style>\n",
              "<table border=\"1\" class=\"dataframe\">\n",
              "  <thead>\n",
              "    <tr style=\"text-align: right;\">\n",
              "      <th></th>\n",
              "      <th>Pregnancies</th>\n",
              "      <th>Glucose</th>\n",
              "      <th>BloodPressure</th>\n",
              "      <th>SkinThickness</th>\n",
              "      <th>Insulin</th>\n",
              "      <th>BMI</th>\n",
              "      <th>DiabetesPedigreeFunction</th>\n",
              "      <th>Age</th>\n",
              "      <th>Outcome</th>\n",
              "    </tr>\n",
              "  </thead>\n",
              "  <tbody>\n",
              "    <tr>\n",
              "      <th>0</th>\n",
              "      <td>6</td>\n",
              "      <td>148</td>\n",
              "      <td>72</td>\n",
              "      <td>35</td>\n",
              "      <td>0</td>\n",
              "      <td>33.6</td>\n",
              "      <td>0.627</td>\n",
              "      <td>50</td>\n",
              "      <td>1</td>\n",
              "    </tr>\n",
              "    <tr>\n",
              "      <th>1</th>\n",
              "      <td>1</td>\n",
              "      <td>85</td>\n",
              "      <td>66</td>\n",
              "      <td>29</td>\n",
              "      <td>0</td>\n",
              "      <td>26.6</td>\n",
              "      <td>0.351</td>\n",
              "      <td>31</td>\n",
              "      <td>0</td>\n",
              "    </tr>\n",
              "    <tr>\n",
              "      <th>2</th>\n",
              "      <td>8</td>\n",
              "      <td>183</td>\n",
              "      <td>64</td>\n",
              "      <td>0</td>\n",
              "      <td>0</td>\n",
              "      <td>23.3</td>\n",
              "      <td>0.672</td>\n",
              "      <td>32</td>\n",
              "      <td>1</td>\n",
              "    </tr>\n",
              "    <tr>\n",
              "      <th>3</th>\n",
              "      <td>1</td>\n",
              "      <td>89</td>\n",
              "      <td>66</td>\n",
              "      <td>23</td>\n",
              "      <td>94</td>\n",
              "      <td>28.1</td>\n",
              "      <td>0.167</td>\n",
              "      <td>21</td>\n",
              "      <td>0</td>\n",
              "    </tr>\n",
              "    <tr>\n",
              "      <th>4</th>\n",
              "      <td>0</td>\n",
              "      <td>137</td>\n",
              "      <td>40</td>\n",
              "      <td>35</td>\n",
              "      <td>168</td>\n",
              "      <td>43.1</td>\n",
              "      <td>2.288</td>\n",
              "      <td>33</td>\n",
              "      <td>1</td>\n",
              "    </tr>\n",
              "  </tbody>\n",
              "</table>\n",
              "</div>\n",
              "    <div class=\"colab-df-buttons\">\n",
              "\n",
              "  <div class=\"colab-df-container\">\n",
              "    <button class=\"colab-df-convert\" onclick=\"convertToInteractive('df-73986bed-be63-4461-9f1f-baeaacac7f9e')\"\n",
              "            title=\"Convert this dataframe to an interactive table.\"\n",
              "            style=\"display:none;\">\n",
              "\n",
              "  <svg xmlns=\"http://www.w3.org/2000/svg\" height=\"24px\" viewBox=\"0 -960 960 960\">\n",
              "    <path d=\"M120-120v-720h720v720H120Zm60-500h600v-160H180v160Zm220 220h160v-160H400v160Zm0 220h160v-160H400v160ZM180-400h160v-160H180v160Zm440 0h160v-160H620v160ZM180-180h160v-160H180v160Zm440 0h160v-160H620v160Z\"/>\n",
              "  </svg>\n",
              "    </button>\n",
              "\n",
              "  <style>\n",
              "    .colab-df-container {\n",
              "      display:flex;\n",
              "      gap: 12px;\n",
              "    }\n",
              "\n",
              "    .colab-df-convert {\n",
              "      background-color: #E8F0FE;\n",
              "      border: none;\n",
              "      border-radius: 50%;\n",
              "      cursor: pointer;\n",
              "      display: none;\n",
              "      fill: #1967D2;\n",
              "      height: 32px;\n",
              "      padding: 0 0 0 0;\n",
              "      width: 32px;\n",
              "    }\n",
              "\n",
              "    .colab-df-convert:hover {\n",
              "      background-color: #E2EBFA;\n",
              "      box-shadow: 0px 1px 2px rgba(60, 64, 67, 0.3), 0px 1px 3px 1px rgba(60, 64, 67, 0.15);\n",
              "      fill: #174EA6;\n",
              "    }\n",
              "\n",
              "    .colab-df-buttons div {\n",
              "      margin-bottom: 4px;\n",
              "    }\n",
              "\n",
              "    [theme=dark] .colab-df-convert {\n",
              "      background-color: #3B4455;\n",
              "      fill: #D2E3FC;\n",
              "    }\n",
              "\n",
              "    [theme=dark] .colab-df-convert:hover {\n",
              "      background-color: #434B5C;\n",
              "      box-shadow: 0px 1px 3px 1px rgba(0, 0, 0, 0.15);\n",
              "      filter: drop-shadow(0px 1px 2px rgba(0, 0, 0, 0.3));\n",
              "      fill: #FFFFFF;\n",
              "    }\n",
              "  </style>\n",
              "\n",
              "    <script>\n",
              "      const buttonEl =\n",
              "        document.querySelector('#df-73986bed-be63-4461-9f1f-baeaacac7f9e button.colab-df-convert');\n",
              "      buttonEl.style.display =\n",
              "        google.colab.kernel.accessAllowed ? 'block' : 'none';\n",
              "\n",
              "      async function convertToInteractive(key) {\n",
              "        const element = document.querySelector('#df-73986bed-be63-4461-9f1f-baeaacac7f9e');\n",
              "        const dataTable =\n",
              "          await google.colab.kernel.invokeFunction('convertToInteractive',\n",
              "                                                    [key], {});\n",
              "        if (!dataTable) return;\n",
              "\n",
              "        const docLinkHtml = 'Like what you see? Visit the ' +\n",
              "          '<a target=\"_blank\" href=https://colab.research.google.com/notebooks/data_table.ipynb>data table notebook</a>'\n",
              "          + ' to learn more about interactive tables.';\n",
              "        element.innerHTML = '';\n",
              "        dataTable['output_type'] = 'display_data';\n",
              "        await google.colab.output.renderOutput(dataTable, element);\n",
              "        const docLink = document.createElement('div');\n",
              "        docLink.innerHTML = docLinkHtml;\n",
              "        element.appendChild(docLink);\n",
              "      }\n",
              "    </script>\n",
              "  </div>\n",
              "\n",
              "\n",
              "<div id=\"df-9d4a991f-bc28-4dcb-bb12-488dc9791f30\">\n",
              "  <button class=\"colab-df-quickchart\" onclick=\"quickchart('df-9d4a991f-bc28-4dcb-bb12-488dc9791f30')\"\n",
              "            title=\"Suggest charts\"\n",
              "            style=\"display:none;\">\n",
              "\n",
              "<svg xmlns=\"http://www.w3.org/2000/svg\" height=\"24px\"viewBox=\"0 0 24 24\"\n",
              "     width=\"24px\">\n",
              "    <g>\n",
              "        <path d=\"M19 3H5c-1.1 0-2 .9-2 2v14c0 1.1.9 2 2 2h14c1.1 0 2-.9 2-2V5c0-1.1-.9-2-2-2zM9 17H7v-7h2v7zm4 0h-2V7h2v10zm4 0h-2v-4h2v4z\"/>\n",
              "    </g>\n",
              "</svg>\n",
              "  </button>\n",
              "\n",
              "<style>\n",
              "  .colab-df-quickchart {\n",
              "      --bg-color: #E8F0FE;\n",
              "      --fill-color: #1967D2;\n",
              "      --hover-bg-color: #E2EBFA;\n",
              "      --hover-fill-color: #174EA6;\n",
              "      --disabled-fill-color: #AAA;\n",
              "      --disabled-bg-color: #DDD;\n",
              "  }\n",
              "\n",
              "  [theme=dark] .colab-df-quickchart {\n",
              "      --bg-color: #3B4455;\n",
              "      --fill-color: #D2E3FC;\n",
              "      --hover-bg-color: #434B5C;\n",
              "      --hover-fill-color: #FFFFFF;\n",
              "      --disabled-bg-color: #3B4455;\n",
              "      --disabled-fill-color: #666;\n",
              "  }\n",
              "\n",
              "  .colab-df-quickchart {\n",
              "    background-color: var(--bg-color);\n",
              "    border: none;\n",
              "    border-radius: 50%;\n",
              "    cursor: pointer;\n",
              "    display: none;\n",
              "    fill: var(--fill-color);\n",
              "    height: 32px;\n",
              "    padding: 0;\n",
              "    width: 32px;\n",
              "  }\n",
              "\n",
              "  .colab-df-quickchart:hover {\n",
              "    background-color: var(--hover-bg-color);\n",
              "    box-shadow: 0 1px 2px rgba(60, 64, 67, 0.3), 0 1px 3px 1px rgba(60, 64, 67, 0.15);\n",
              "    fill: var(--button-hover-fill-color);\n",
              "  }\n",
              "\n",
              "  .colab-df-quickchart-complete:disabled,\n",
              "  .colab-df-quickchart-complete:disabled:hover {\n",
              "    background-color: var(--disabled-bg-color);\n",
              "    fill: var(--disabled-fill-color);\n",
              "    box-shadow: none;\n",
              "  }\n",
              "\n",
              "  .colab-df-spinner {\n",
              "    border: 2px solid var(--fill-color);\n",
              "    border-color: transparent;\n",
              "    border-bottom-color: var(--fill-color);\n",
              "    animation:\n",
              "      spin 1s steps(1) infinite;\n",
              "  }\n",
              "\n",
              "  @keyframes spin {\n",
              "    0% {\n",
              "      border-color: transparent;\n",
              "      border-bottom-color: var(--fill-color);\n",
              "      border-left-color: var(--fill-color);\n",
              "    }\n",
              "    20% {\n",
              "      border-color: transparent;\n",
              "      border-left-color: var(--fill-color);\n",
              "      border-top-color: var(--fill-color);\n",
              "    }\n",
              "    30% {\n",
              "      border-color: transparent;\n",
              "      border-left-color: var(--fill-color);\n",
              "      border-top-color: var(--fill-color);\n",
              "      border-right-color: var(--fill-color);\n",
              "    }\n",
              "    40% {\n",
              "      border-color: transparent;\n",
              "      border-right-color: var(--fill-color);\n",
              "      border-top-color: var(--fill-color);\n",
              "    }\n",
              "    60% {\n",
              "      border-color: transparent;\n",
              "      border-right-color: var(--fill-color);\n",
              "    }\n",
              "    80% {\n",
              "      border-color: transparent;\n",
              "      border-right-color: var(--fill-color);\n",
              "      border-bottom-color: var(--fill-color);\n",
              "    }\n",
              "    90% {\n",
              "      border-color: transparent;\n",
              "      border-bottom-color: var(--fill-color);\n",
              "    }\n",
              "  }\n",
              "</style>\n",
              "\n",
              "  <script>\n",
              "    async function quickchart(key) {\n",
              "      const quickchartButtonEl =\n",
              "        document.querySelector('#' + key + ' button');\n",
              "      quickchartButtonEl.disabled = true;  // To prevent multiple clicks.\n",
              "      quickchartButtonEl.classList.add('colab-df-spinner');\n",
              "      try {\n",
              "        const charts = await google.colab.kernel.invokeFunction(\n",
              "            'suggestCharts', [key], {});\n",
              "      } catch (error) {\n",
              "        console.error('Error during call to suggestCharts:', error);\n",
              "      }\n",
              "      quickchartButtonEl.classList.remove('colab-df-spinner');\n",
              "      quickchartButtonEl.classList.add('colab-df-quickchart-complete');\n",
              "    }\n",
              "    (() => {\n",
              "      let quickchartButtonEl =\n",
              "        document.querySelector('#df-9d4a991f-bc28-4dcb-bb12-488dc9791f30 button');\n",
              "      quickchartButtonEl.style.display =\n",
              "        google.colab.kernel.accessAllowed ? 'block' : 'none';\n",
              "    })();\n",
              "  </script>\n",
              "</div>\n",
              "\n",
              "    </div>\n",
              "  </div>\n"
            ],
            "application/vnd.google.colaboratory.intrinsic+json": {
              "type": "dataframe",
              "variable_name": "diab",
              "summary": "{\n  \"name\": \"diab\",\n  \"rows\": 768,\n  \"fields\": [\n    {\n      \"column\": \"Pregnancies\",\n      \"properties\": {\n        \"dtype\": \"number\",\n        \"std\": 3,\n        \"min\": 0,\n        \"max\": 17,\n        \"num_unique_values\": 17,\n        \"samples\": [\n          6,\n          1,\n          3\n        ],\n        \"semantic_type\": \"\",\n        \"description\": \"\"\n      }\n    },\n    {\n      \"column\": \"Glucose\",\n      \"properties\": {\n        \"dtype\": \"number\",\n        \"std\": 31,\n        \"min\": 0,\n        \"max\": 199,\n        \"num_unique_values\": 136,\n        \"samples\": [\n          151,\n          101,\n          112\n        ],\n        \"semantic_type\": \"\",\n        \"description\": \"\"\n      }\n    },\n    {\n      \"column\": \"BloodPressure\",\n      \"properties\": {\n        \"dtype\": \"number\",\n        \"std\": 19,\n        \"min\": 0,\n        \"max\": 122,\n        \"num_unique_values\": 47,\n        \"samples\": [\n          86,\n          46,\n          85\n        ],\n        \"semantic_type\": \"\",\n        \"description\": \"\"\n      }\n    },\n    {\n      \"column\": \"SkinThickness\",\n      \"properties\": {\n        \"dtype\": \"number\",\n        \"std\": 15,\n        \"min\": 0,\n        \"max\": 99,\n        \"num_unique_values\": 51,\n        \"samples\": [\n          7,\n          12,\n          48\n        ],\n        \"semantic_type\": \"\",\n        \"description\": \"\"\n      }\n    },\n    {\n      \"column\": \"Insulin\",\n      \"properties\": {\n        \"dtype\": \"number\",\n        \"std\": 115,\n        \"min\": 0,\n        \"max\": 846,\n        \"num_unique_values\": 186,\n        \"samples\": [\n          52,\n          41,\n          183\n        ],\n        \"semantic_type\": \"\",\n        \"description\": \"\"\n      }\n    },\n    {\n      \"column\": \"BMI\",\n      \"properties\": {\n        \"dtype\": \"number\",\n        \"std\": 7.884160320375446,\n        \"min\": 0.0,\n        \"max\": 67.1,\n        \"num_unique_values\": 248,\n        \"samples\": [\n          19.9,\n          31.0,\n          38.1\n        ],\n        \"semantic_type\": \"\",\n        \"description\": \"\"\n      }\n    },\n    {\n      \"column\": \"DiabetesPedigreeFunction\",\n      \"properties\": {\n        \"dtype\": \"number\",\n        \"std\": 0.3313285950127749,\n        \"min\": 0.078,\n        \"max\": 2.42,\n        \"num_unique_values\": 517,\n        \"samples\": [\n          1.731,\n          0.426,\n          0.138\n        ],\n        \"semantic_type\": \"\",\n        \"description\": \"\"\n      }\n    },\n    {\n      \"column\": \"Age\",\n      \"properties\": {\n        \"dtype\": \"number\",\n        \"std\": 11,\n        \"min\": 21,\n        \"max\": 81,\n        \"num_unique_values\": 52,\n        \"samples\": [\n          60,\n          47,\n          72\n        ],\n        \"semantic_type\": \"\",\n        \"description\": \"\"\n      }\n    },\n    {\n      \"column\": \"Outcome\",\n      \"properties\": {\n        \"dtype\": \"number\",\n        \"std\": 0,\n        \"min\": 0,\n        \"max\": 1,\n        \"num_unique_values\": 2,\n        \"samples\": [\n          0,\n          1\n        ],\n        \"semantic_type\": \"\",\n        \"description\": \"\"\n      }\n    }\n  ]\n}"
            }
          },
          "metadata": {},
          "execution_count": 6
        }
      ]
    },
    {
      "cell_type": "code",
      "source": [
        "# Get the dimensions of the DataFrame (rows, columns)\n",
        "diab.shape"
      ],
      "metadata": {
        "colab": {
          "base_uri": "https://localhost:8080/"
        },
        "id": "db3UpLvQxL1_",
        "outputId": "f68d1758-9a9a-4b0a-a90f-3c2d6360ef83"
      },
      "execution_count": 7,
      "outputs": [
        {
          "output_type": "execute_result",
          "data": {
            "text/plain": [
              "(768, 9)"
            ]
          },
          "metadata": {},
          "execution_count": 7
        }
      ]
    },
    {
      "cell_type": "code",
      "source": [
        "# Get a summary of the DataFrame's information including data types, non-null counts, and memory usage\n",
        "diab.info()"
      ],
      "metadata": {
        "colab": {
          "base_uri": "https://localhost:8080/"
        },
        "id": "OJGLUop9xM5V",
        "outputId": "fbc3325d-c569-4727-8171-53f94a0577e4"
      },
      "execution_count": 8,
      "outputs": [
        {
          "output_type": "stream",
          "name": "stdout",
          "text": [
            "<class 'pandas.core.frame.DataFrame'>\n",
            "RangeIndex: 768 entries, 0 to 767\n",
            "Data columns (total 9 columns):\n",
            " #   Column                    Non-Null Count  Dtype  \n",
            "---  ------                    --------------  -----  \n",
            " 0   Pregnancies               768 non-null    int64  \n",
            " 1   Glucose                   768 non-null    int64  \n",
            " 2   BloodPressure             768 non-null    int64  \n",
            " 3   SkinThickness             768 non-null    int64  \n",
            " 4   Insulin                   768 non-null    int64  \n",
            " 5   BMI                       768 non-null    float64\n",
            " 6   DiabetesPedigreeFunction  768 non-null    float64\n",
            " 7   Age                       768 non-null    int64  \n",
            " 8   Outcome                   768 non-null    int64  \n",
            "dtypes: float64(2), int64(7)\n",
            "memory usage: 54.1 KB\n"
          ]
        }
      ]
    },
    {
      "cell_type": "code",
      "source": [
        "# Count the number of duplicate rows in the DataFrame\n",
        "diab.duplicated().sum()"
      ],
      "metadata": {
        "colab": {
          "base_uri": "https://localhost:8080/"
        },
        "id": "MrtqZjsoxOjp",
        "outputId": "2f0a7014-0d1c-4c5b-d4e4-a6726ba76cf3"
      },
      "execution_count": 9,
      "outputs": [
        {
          "output_type": "execute_result",
          "data": {
            "text/plain": [
              "0"
            ]
          },
          "metadata": {},
          "execution_count": 9
        }
      ]
    },
    {
      "cell_type": "code",
      "source": [
        "columns_to_replace = ['Glucose', 'BloodPressure', 'SkinThickness', 'Insulin', 'BMI', 'DiabetesPedigreeFunction', 'Age']"
      ],
      "metadata": {
        "id": "nENKKvXGxTj8"
      },
      "execution_count": 13,
      "outputs": []
    },
    {
      "cell_type": "code",
      "source": [
        "diab[columns_to_replace] =diab[columns_to_replace].replace(0, np.nan)"
      ],
      "metadata": {
        "id": "cgZd15hgxYBO"
      },
      "execution_count": 14,
      "outputs": []
    },
    {
      "cell_type": "code",
      "source": [
        "diab.isnull().sum()"
      ],
      "metadata": {
        "colab": {
          "base_uri": "https://localhost:8080/"
        },
        "id": "ZPRfvDS9xZg0",
        "outputId": "78386e85-6cab-41fd-d33e-4bf2818bb7bf"
      },
      "execution_count": 15,
      "outputs": [
        {
          "output_type": "execute_result",
          "data": {
            "text/plain": [
              "Pregnancies                   0\n",
              "Glucose                       5\n",
              "BloodPressure                35\n",
              "SkinThickness               227\n",
              "Insulin                     374\n",
              "BMI                          11\n",
              "DiabetesPedigreeFunction      0\n",
              "Age                           0\n",
              "Outcome                       0\n",
              "dtype: int64"
            ]
          },
          "metadata": {},
          "execution_count": 15
        }
      ]
    },
    {
      "cell_type": "code",
      "source": [
        "fill_with_median = ['Glucose', 'SkinThickness', 'Insulin', 'DiabetesPedigreeFunction', 'Age']\n",
        "fill_with_mean = ['BloodPressure', 'BMI']"
      ],
      "metadata": {
        "id": "SQy6-1TDxgr-"
      },
      "execution_count": 16,
      "outputs": []
    },
    {
      "cell_type": "code",
      "source": [
        "for col in fill_with_median:\n",
        "    median_value = diab[col].median()\n",
        "    diab[col].fillna(median_value, inplace = True)\n",
        "\n",
        "for col in fill_with_mean:\n",
        "    mean_value = diab[col].mean()\n",
        "    diab[col].fillna(mean_value, inplace = True)"
      ],
      "metadata": {
        "id": "gS2_RSndxlb9"
      },
      "execution_count": 17,
      "outputs": []
    },
    {
      "cell_type": "code",
      "source": [
        "# Calculate IQR, lower bound, and upper bound for all columns in the dataset\n",
        "Q1 = diab.quantile(0.25)\n",
        "Q3 = diab.quantile(0.75)\n",
        "IQR = Q3 - Q1\n",
        "\n",
        "lower_bound = Q1 - 1.5 * IQR\n",
        "upper_bound = Q3 + 1.5 * IQR\n",
        "outlier_mask = pd.Series(False, index=diab.index)\n",
        "for col in diab.columns:\n",
        "    is_outlier = (diab[col] < lower_bound[col]) | (diab[col] > upper_bound[col])\n",
        "    outlier_mask |= is_outlier\n",
        "\n",
        "diab_no_outliers = diab[~outlier_mask]"
      ],
      "metadata": {
        "id": "s57diUjY2EAJ"
      },
      "execution_count": 45,
      "outputs": []
    },
    {
      "cell_type": "code",
      "source": [
        "X = diab_no_outliers.drop('Outcome', axis=1)\n",
        "y = diab_no_outliers['Outcome']\n",
        "\n",
        "# Split the data into training and testing sets\n",
        "X_train, X_test, y_train, y_test = train_test_split(X, y, test_size=0.2, random_state=42)"
      ],
      "metadata": {
        "id": "wyaT5X8cxmtO"
      },
      "execution_count": 46,
      "outputs": []
    },
    {
      "cell_type": "code",
      "source": [
        "# Initialize and fit a StandardScaler to the training data\n",
        "scaler = MinMaxScaler()\n",
        "X_train_scaled = scaler.fit_transform(X_train)\n",
        "\n",
        "# Use the same scaler to transform the test data\n",
        "X_test_scaled = scaler.transform(X_test)"
      ],
      "metadata": {
        "id": "EkRk7UeLxuUl"
      },
      "execution_count": 47,
      "outputs": []
    },
    {
      "cell_type": "code",
      "source": [
        "model=Sequential()\n",
        "model.add(Dense(16, activation=\"relu\", input_dim=X_train_scaled.shape[1]))\n",
        "model.add(Dropout(0.2))\n",
        "model.add(Dense(12, activation=\"relu\"))\n",
        "model.add(Dropout(0.2))\n",
        "model.add(Dense(8, activation=\"relu\"))\n",
        "model.add(Dropout(0.2))\n",
        "model.add(Dense(1,activation=\"sigmoid\"))"
      ],
      "metadata": {
        "id": "4D163b8pxwft"
      },
      "execution_count": 119,
      "outputs": []
    },
    {
      "cell_type": "code",
      "source": [
        "model.compile(loss='binary_crossentropy', optimizer='adam', metrics=['accuracy'])"
      ],
      "metadata": {
        "id": "9lbKWgA9ycaV"
      },
      "execution_count": 120,
      "outputs": []
    },
    {
      "cell_type": "code",
      "source": [
        "history = model.fit(X_train_scaled,y_train, validation_data = (X_test_scaled, y_test), epochs=100)"
      ],
      "metadata": {
        "colab": {
          "base_uri": "https://localhost:8080/"
        },
        "id": "HBaYsr1jydvx",
        "outputId": "2deea6d9-be9d-406f-df0e-fe7b344a1995"
      },
      "execution_count": 121,
      "outputs": [
        {
          "output_type": "stream",
          "name": "stdout",
          "text": [
            "Epoch 1/100\n",
            "10/10 [==============================] - 1s 29ms/step - loss: 0.7144 - accuracy: 0.4067 - val_loss: 0.7042 - val_accuracy: 0.4267\n",
            "Epoch 2/100\n",
            "10/10 [==============================] - 0s 9ms/step - loss: 0.6955 - accuracy: 0.4600 - val_loss: 0.6994 - val_accuracy: 0.4267\n",
            "Epoch 3/100\n",
            "10/10 [==============================] - 0s 8ms/step - loss: 0.6881 - accuracy: 0.5167 - val_loss: 0.6939 - val_accuracy: 0.5067\n",
            "Epoch 4/100\n",
            "10/10 [==============================] - 0s 8ms/step - loss: 0.6743 - accuracy: 0.6067 - val_loss: 0.6876 - val_accuracy: 0.5733\n",
            "Epoch 5/100\n",
            "10/10 [==============================] - 0s 8ms/step - loss: 0.6743 - accuracy: 0.6000 - val_loss: 0.6828 - val_accuracy: 0.5733\n",
            "Epoch 6/100\n",
            "10/10 [==============================] - 0s 9ms/step - loss: 0.6650 - accuracy: 0.6267 - val_loss: 0.6802 - val_accuracy: 0.5867\n",
            "Epoch 7/100\n",
            "10/10 [==============================] - 0s 8ms/step - loss: 0.6717 - accuracy: 0.6400 - val_loss: 0.6772 - val_accuracy: 0.6133\n",
            "Epoch 8/100\n",
            "10/10 [==============================] - 0s 9ms/step - loss: 0.6599 - accuracy: 0.6333 - val_loss: 0.6750 - val_accuracy: 0.6133\n",
            "Epoch 9/100\n",
            "10/10 [==============================] - 0s 6ms/step - loss: 0.6746 - accuracy: 0.6333 - val_loss: 0.6737 - val_accuracy: 0.6133\n",
            "Epoch 10/100\n",
            "10/10 [==============================] - 0s 8ms/step - loss: 0.6559 - accuracy: 0.6433 - val_loss: 0.6724 - val_accuracy: 0.6133\n",
            "Epoch 11/100\n",
            "10/10 [==============================] - 0s 8ms/step - loss: 0.6521 - accuracy: 0.6433 - val_loss: 0.6711 - val_accuracy: 0.6133\n",
            "Epoch 12/100\n",
            "10/10 [==============================] - 0s 9ms/step - loss: 0.6520 - accuracy: 0.6400 - val_loss: 0.6696 - val_accuracy: 0.6133\n",
            "Epoch 13/100\n",
            "10/10 [==============================] - 0s 7ms/step - loss: 0.6536 - accuracy: 0.6433 - val_loss: 0.6684 - val_accuracy: 0.6133\n",
            "Epoch 14/100\n",
            "10/10 [==============================] - 0s 8ms/step - loss: 0.6550 - accuracy: 0.6533 - val_loss: 0.6667 - val_accuracy: 0.6133\n",
            "Epoch 15/100\n",
            "10/10 [==============================] - 0s 7ms/step - loss: 0.6598 - accuracy: 0.6367 - val_loss: 0.6652 - val_accuracy: 0.6133\n",
            "Epoch 16/100\n",
            "10/10 [==============================] - 0s 7ms/step - loss: 0.6583 - accuracy: 0.6367 - val_loss: 0.6640 - val_accuracy: 0.6133\n",
            "Epoch 17/100\n",
            "10/10 [==============================] - 0s 6ms/step - loss: 0.6296 - accuracy: 0.6467 - val_loss: 0.6618 - val_accuracy: 0.6133\n",
            "Epoch 18/100\n",
            "10/10 [==============================] - 0s 9ms/step - loss: 0.6489 - accuracy: 0.6600 - val_loss: 0.6605 - val_accuracy: 0.6133\n",
            "Epoch 19/100\n",
            "10/10 [==============================] - 0s 6ms/step - loss: 0.6241 - accuracy: 0.6467 - val_loss: 0.6591 - val_accuracy: 0.6133\n",
            "Epoch 20/100\n",
            "10/10 [==============================] - 0s 8ms/step - loss: 0.6436 - accuracy: 0.6500 - val_loss: 0.6575 - val_accuracy: 0.6133\n",
            "Epoch 21/100\n",
            "10/10 [==============================] - 0s 7ms/step - loss: 0.6245 - accuracy: 0.6533 - val_loss: 0.6558 - val_accuracy: 0.6133\n",
            "Epoch 22/100\n",
            "10/10 [==============================] - 0s 8ms/step - loss: 0.6304 - accuracy: 0.6667 - val_loss: 0.6542 - val_accuracy: 0.6267\n",
            "Epoch 23/100\n",
            "10/10 [==============================] - 0s 8ms/step - loss: 0.6318 - accuracy: 0.6700 - val_loss: 0.6528 - val_accuracy: 0.6400\n",
            "Epoch 24/100\n",
            "10/10 [==============================] - 0s 8ms/step - loss: 0.6370 - accuracy: 0.6833 - val_loss: 0.6514 - val_accuracy: 0.6400\n",
            "Epoch 25/100\n",
            "10/10 [==============================] - 0s 8ms/step - loss: 0.6343 - accuracy: 0.6500 - val_loss: 0.6497 - val_accuracy: 0.6400\n",
            "Epoch 26/100\n",
            "10/10 [==============================] - 0s 6ms/step - loss: 0.6443 - accuracy: 0.6700 - val_loss: 0.6477 - val_accuracy: 0.6533\n",
            "Epoch 27/100\n",
            "10/10 [==============================] - 0s 8ms/step - loss: 0.6163 - accuracy: 0.7000 - val_loss: 0.6449 - val_accuracy: 0.6533\n",
            "Epoch 28/100\n",
            "10/10 [==============================] - 0s 8ms/step - loss: 0.6379 - accuracy: 0.6500 - val_loss: 0.6422 - val_accuracy: 0.6533\n",
            "Epoch 29/100\n",
            "10/10 [==============================] - 0s 7ms/step - loss: 0.6196 - accuracy: 0.6833 - val_loss: 0.6401 - val_accuracy: 0.6400\n",
            "Epoch 30/100\n",
            "10/10 [==============================] - 0s 7ms/step - loss: 0.6239 - accuracy: 0.6733 - val_loss: 0.6380 - val_accuracy: 0.6533\n",
            "Epoch 31/100\n",
            "10/10 [==============================] - 0s 8ms/step - loss: 0.6122 - accuracy: 0.6933 - val_loss: 0.6362 - val_accuracy: 0.6533\n",
            "Epoch 32/100\n",
            "10/10 [==============================] - 0s 7ms/step - loss: 0.6284 - accuracy: 0.6900 - val_loss: 0.6335 - val_accuracy: 0.6667\n",
            "Epoch 33/100\n",
            "10/10 [==============================] - 0s 8ms/step - loss: 0.6102 - accuracy: 0.6800 - val_loss: 0.6318 - val_accuracy: 0.6533\n",
            "Epoch 34/100\n",
            "10/10 [==============================] - 0s 8ms/step - loss: 0.6098 - accuracy: 0.7133 - val_loss: 0.6298 - val_accuracy: 0.6667\n",
            "Epoch 35/100\n",
            "10/10 [==============================] - 0s 8ms/step - loss: 0.6234 - accuracy: 0.6833 - val_loss: 0.6285 - val_accuracy: 0.6667\n",
            "Epoch 36/100\n",
            "10/10 [==============================] - 0s 7ms/step - loss: 0.5938 - accuracy: 0.6900 - val_loss: 0.6264 - val_accuracy: 0.6800\n",
            "Epoch 37/100\n",
            "10/10 [==============================] - 0s 8ms/step - loss: 0.6093 - accuracy: 0.6833 - val_loss: 0.6238 - val_accuracy: 0.6800\n",
            "Epoch 38/100\n",
            "10/10 [==============================] - 0s 7ms/step - loss: 0.6040 - accuracy: 0.6833 - val_loss: 0.6224 - val_accuracy: 0.7467\n",
            "Epoch 39/100\n",
            "10/10 [==============================] - 0s 8ms/step - loss: 0.6057 - accuracy: 0.6633 - val_loss: 0.6186 - val_accuracy: 0.7467\n",
            "Epoch 40/100\n",
            "10/10 [==============================] - 0s 9ms/step - loss: 0.5985 - accuracy: 0.6933 - val_loss: 0.6134 - val_accuracy: 0.6933\n",
            "Epoch 41/100\n",
            "10/10 [==============================] - 0s 7ms/step - loss: 0.5913 - accuracy: 0.6833 - val_loss: 0.6093 - val_accuracy: 0.6933\n",
            "Epoch 42/100\n",
            "10/10 [==============================] - 0s 8ms/step - loss: 0.5959 - accuracy: 0.6900 - val_loss: 0.6041 - val_accuracy: 0.7333\n",
            "Epoch 43/100\n",
            "10/10 [==============================] - 0s 7ms/step - loss: 0.5806 - accuracy: 0.7233 - val_loss: 0.5997 - val_accuracy: 0.7333\n",
            "Epoch 44/100\n",
            "10/10 [==============================] - 0s 7ms/step - loss: 0.5681 - accuracy: 0.7133 - val_loss: 0.5960 - val_accuracy: 0.7467\n",
            "Epoch 45/100\n",
            "10/10 [==============================] - 0s 9ms/step - loss: 0.5805 - accuracy: 0.7100 - val_loss: 0.5937 - val_accuracy: 0.7333\n",
            "Epoch 46/100\n",
            "10/10 [==============================] - 0s 7ms/step - loss: 0.5821 - accuracy: 0.7033 - val_loss: 0.5913 - val_accuracy: 0.7333\n",
            "Epoch 47/100\n",
            "10/10 [==============================] - 0s 6ms/step - loss: 0.5884 - accuracy: 0.6933 - val_loss: 0.5912 - val_accuracy: 0.7200\n",
            "Epoch 48/100\n",
            "10/10 [==============================] - 0s 6ms/step - loss: 0.5640 - accuracy: 0.7367 - val_loss: 0.5903 - val_accuracy: 0.7333\n",
            "Epoch 49/100\n",
            "10/10 [==============================] - 0s 7ms/step - loss: 0.5763 - accuracy: 0.7133 - val_loss: 0.5861 - val_accuracy: 0.7467\n",
            "Epoch 50/100\n",
            "10/10 [==============================] - 0s 7ms/step - loss: 0.5766 - accuracy: 0.6900 - val_loss: 0.5842 - val_accuracy: 0.7067\n",
            "Epoch 51/100\n",
            "10/10 [==============================] - 0s 7ms/step - loss: 0.5809 - accuracy: 0.7300 - val_loss: 0.5830 - val_accuracy: 0.7200\n",
            "Epoch 52/100\n",
            "10/10 [==============================] - 0s 8ms/step - loss: 0.5520 - accuracy: 0.7233 - val_loss: 0.5827 - val_accuracy: 0.7600\n",
            "Epoch 53/100\n",
            "10/10 [==============================] - 0s 8ms/step - loss: 0.5605 - accuracy: 0.7300 - val_loss: 0.5798 - val_accuracy: 0.7467\n",
            "Epoch 54/100\n",
            "10/10 [==============================] - 0s 6ms/step - loss: 0.5525 - accuracy: 0.7267 - val_loss: 0.5777 - val_accuracy: 0.7200\n",
            "Epoch 55/100\n",
            "10/10 [==============================] - 0s 6ms/step - loss: 0.5648 - accuracy: 0.6933 - val_loss: 0.5764 - val_accuracy: 0.7200\n",
            "Epoch 56/100\n",
            "10/10 [==============================] - 0s 6ms/step - loss: 0.5717 - accuracy: 0.7000 - val_loss: 0.5749 - val_accuracy: 0.7067\n",
            "Epoch 57/100\n",
            "10/10 [==============================] - 0s 9ms/step - loss: 0.5313 - accuracy: 0.7433 - val_loss: 0.5719 - val_accuracy: 0.7067\n",
            "Epoch 58/100\n",
            "10/10 [==============================] - 0s 8ms/step - loss: 0.5594 - accuracy: 0.7200 - val_loss: 0.5702 - val_accuracy: 0.6800\n",
            "Epoch 59/100\n",
            "10/10 [==============================] - 0s 8ms/step - loss: 0.5430 - accuracy: 0.7200 - val_loss: 0.5660 - val_accuracy: 0.7467\n",
            "Epoch 60/100\n",
            "10/10 [==============================] - 0s 8ms/step - loss: 0.5570 - accuracy: 0.7033 - val_loss: 0.5644 - val_accuracy: 0.7600\n",
            "Epoch 61/100\n",
            "10/10 [==============================] - 0s 6ms/step - loss: 0.5543 - accuracy: 0.7167 - val_loss: 0.5642 - val_accuracy: 0.7600\n",
            "Epoch 62/100\n",
            "10/10 [==============================] - 0s 6ms/step - loss: 0.5436 - accuracy: 0.7467 - val_loss: 0.5633 - val_accuracy: 0.7467\n",
            "Epoch 63/100\n",
            "10/10 [==============================] - 0s 7ms/step - loss: 0.5597 - accuracy: 0.7200 - val_loss: 0.5622 - val_accuracy: 0.7600\n",
            "Epoch 64/100\n",
            "10/10 [==============================] - 0s 8ms/step - loss: 0.5536 - accuracy: 0.6900 - val_loss: 0.5623 - val_accuracy: 0.7467\n",
            "Epoch 65/100\n",
            "10/10 [==============================] - 0s 6ms/step - loss: 0.5560 - accuracy: 0.7200 - val_loss: 0.5602 - val_accuracy: 0.7600\n",
            "Epoch 66/100\n",
            "10/10 [==============================] - 0s 8ms/step - loss: 0.5532 - accuracy: 0.7300 - val_loss: 0.5586 - val_accuracy: 0.7600\n",
            "Epoch 67/100\n",
            "10/10 [==============================] - 0s 8ms/step - loss: 0.5440 - accuracy: 0.7300 - val_loss: 0.5584 - val_accuracy: 0.7467\n",
            "Epoch 68/100\n",
            "10/10 [==============================] - 0s 8ms/step - loss: 0.5646 - accuracy: 0.6967 - val_loss: 0.5571 - val_accuracy: 0.7333\n",
            "Epoch 69/100\n",
            "10/10 [==============================] - 0s 7ms/step - loss: 0.5391 - accuracy: 0.7200 - val_loss: 0.5558 - val_accuracy: 0.7467\n",
            "Epoch 70/100\n",
            "10/10 [==============================] - 0s 7ms/step - loss: 0.5340 - accuracy: 0.7033 - val_loss: 0.5559 - val_accuracy: 0.7600\n",
            "Epoch 71/100\n",
            "10/10 [==============================] - 0s 6ms/step - loss: 0.5518 - accuracy: 0.7167 - val_loss: 0.5547 - val_accuracy: 0.7467\n",
            "Epoch 72/100\n",
            "10/10 [==============================] - 0s 7ms/step - loss: 0.5335 - accuracy: 0.7600 - val_loss: 0.5568 - val_accuracy: 0.7067\n",
            "Epoch 73/100\n",
            "10/10 [==============================] - 0s 6ms/step - loss: 0.5540 - accuracy: 0.7133 - val_loss: 0.5569 - val_accuracy: 0.7333\n",
            "Epoch 74/100\n",
            "10/10 [==============================] - 0s 6ms/step - loss: 0.5185 - accuracy: 0.7200 - val_loss: 0.5544 - val_accuracy: 0.7467\n",
            "Epoch 75/100\n",
            "10/10 [==============================] - 0s 6ms/step - loss: 0.5206 - accuracy: 0.7600 - val_loss: 0.5521 - val_accuracy: 0.7600\n",
            "Epoch 76/100\n",
            "10/10 [==============================] - 0s 7ms/step - loss: 0.5329 - accuracy: 0.7467 - val_loss: 0.5512 - val_accuracy: 0.7333\n",
            "Epoch 77/100\n",
            "10/10 [==============================] - 0s 7ms/step - loss: 0.5255 - accuracy: 0.7267 - val_loss: 0.5490 - val_accuracy: 0.7333\n",
            "Epoch 78/100\n",
            "10/10 [==============================] - 0s 6ms/step - loss: 0.5225 - accuracy: 0.7333 - val_loss: 0.5479 - val_accuracy: 0.7467\n",
            "Epoch 79/100\n",
            "10/10 [==============================] - 0s 8ms/step - loss: 0.5498 - accuracy: 0.7100 - val_loss: 0.5470 - val_accuracy: 0.7600\n",
            "Epoch 80/100\n",
            "10/10 [==============================] - 0s 9ms/step - loss: 0.5107 - accuracy: 0.7333 - val_loss: 0.5475 - val_accuracy: 0.7467\n",
            "Epoch 81/100\n",
            "10/10 [==============================] - 0s 8ms/step - loss: 0.5240 - accuracy: 0.7300 - val_loss: 0.5465 - val_accuracy: 0.7467\n",
            "Epoch 82/100\n",
            "10/10 [==============================] - 0s 6ms/step - loss: 0.5312 - accuracy: 0.7033 - val_loss: 0.5458 - val_accuracy: 0.7467\n",
            "Epoch 83/100\n",
            "10/10 [==============================] - 0s 6ms/step - loss: 0.5308 - accuracy: 0.7267 - val_loss: 0.5440 - val_accuracy: 0.7467\n",
            "Epoch 84/100\n",
            "10/10 [==============================] - 0s 7ms/step - loss: 0.5247 - accuracy: 0.7400 - val_loss: 0.5432 - val_accuracy: 0.7600\n",
            "Epoch 85/100\n",
            "10/10 [==============================] - 0s 8ms/step - loss: 0.5414 - accuracy: 0.7367 - val_loss: 0.5421 - val_accuracy: 0.7600\n",
            "Epoch 86/100\n",
            "10/10 [==============================] - 0s 6ms/step - loss: 0.5438 - accuracy: 0.7067 - val_loss: 0.5426 - val_accuracy: 0.7467\n",
            "Epoch 87/100\n",
            "10/10 [==============================] - 0s 6ms/step - loss: 0.5038 - accuracy: 0.7533 - val_loss: 0.5427 - val_accuracy: 0.7333\n",
            "Epoch 88/100\n",
            "10/10 [==============================] - 0s 8ms/step - loss: 0.5159 - accuracy: 0.7400 - val_loss: 0.5419 - val_accuracy: 0.7600\n",
            "Epoch 89/100\n",
            "10/10 [==============================] - 0s 7ms/step - loss: 0.5079 - accuracy: 0.7567 - val_loss: 0.5403 - val_accuracy: 0.7467\n",
            "Epoch 90/100\n",
            "10/10 [==============================] - 0s 8ms/step - loss: 0.5351 - accuracy: 0.7233 - val_loss: 0.5399 - val_accuracy: 0.7200\n",
            "Epoch 91/100\n",
            "10/10 [==============================] - 0s 8ms/step - loss: 0.5280 - accuracy: 0.7467 - val_loss: 0.5389 - val_accuracy: 0.7467\n",
            "Epoch 92/100\n",
            "10/10 [==============================] - 0s 6ms/step - loss: 0.5172 - accuracy: 0.6967 - val_loss: 0.5374 - val_accuracy: 0.7200\n",
            "Epoch 93/100\n",
            "10/10 [==============================] - 0s 8ms/step - loss: 0.5239 - accuracy: 0.7367 - val_loss: 0.5381 - val_accuracy: 0.7200\n",
            "Epoch 94/100\n",
            "10/10 [==============================] - 0s 6ms/step - loss: 0.5062 - accuracy: 0.7667 - val_loss: 0.5375 - val_accuracy: 0.7467\n",
            "Epoch 95/100\n",
            "10/10 [==============================] - 0s 8ms/step - loss: 0.5186 - accuracy: 0.7067 - val_loss: 0.5383 - val_accuracy: 0.7200\n",
            "Epoch 96/100\n",
            "10/10 [==============================] - 0s 6ms/step - loss: 0.5225 - accuracy: 0.7233 - val_loss: 0.5372 - val_accuracy: 0.7200\n",
            "Epoch 97/100\n",
            "10/10 [==============================] - 0s 7ms/step - loss: 0.5131 - accuracy: 0.7767 - val_loss: 0.5361 - val_accuracy: 0.7067\n",
            "Epoch 98/100\n",
            "10/10 [==============================] - 0s 6ms/step - loss: 0.5002 - accuracy: 0.7533 - val_loss: 0.5353 - val_accuracy: 0.7067\n",
            "Epoch 99/100\n",
            "10/10 [==============================] - 0s 7ms/step - loss: 0.5227 - accuracy: 0.7267 - val_loss: 0.5355 - val_accuracy: 0.7200\n",
            "Epoch 100/100\n",
            "10/10 [==============================] - 0s 7ms/step - loss: 0.5013 - accuracy: 0.7700 - val_loss: 0.5369 - val_accuracy: 0.7200\n"
          ]
        }
      ]
    },
    {
      "cell_type": "code",
      "source": [
        "loss_test, accuracy_test = model.evaluate(X_test_scaled, y_test, verbose=0)\n",
        "loss_train, accuracy_train = model.evaluate(X_train_scaled, y_train, verbose=0)\n",
        "print('Testing Loss: %.2f' % loss_test)\n",
        "print('Testing Accuracy: %.2f' % (accuracy_test * 100) + '%')\n",
        "print(\"*\" * 30)\n",
        "print('Training Loss: %.2f' % loss_train)\n",
        "print('Training Accuracy: %.2f' % (accuracy_train * 100) + '%')"
      ],
      "metadata": {
        "colab": {
          "base_uri": "https://localhost:8080/"
        },
        "id": "8lTTpBjCzHpQ",
        "outputId": "ddfaa51b-fb29-4263-a710-1bf3d9f1edf6"
      },
      "execution_count": 123,
      "outputs": [
        {
          "output_type": "stream",
          "name": "stdout",
          "text": [
            "Testing Loss: 0.54\n",
            "Testing Accuracy: 72.00%\n",
            "******************************\n",
            "Training Loss: 0.47\n",
            "Training Accuracy: 75.67%\n"
          ]
        }
      ]
    },
    {
      "cell_type": "code",
      "source": [],
      "metadata": {
        "id": "CPp9YSEXze04"
      },
      "execution_count": 123,
      "outputs": []
    }
  ]
}