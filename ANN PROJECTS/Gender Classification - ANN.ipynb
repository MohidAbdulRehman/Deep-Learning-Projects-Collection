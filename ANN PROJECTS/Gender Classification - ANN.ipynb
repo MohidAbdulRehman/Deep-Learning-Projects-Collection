{
  "nbformat": 4,
  "nbformat_minor": 0,
  "metadata": {
    "colab": {
      "provenance": []
    },
    "kernelspec": {
      "name": "python3",
      "display_name": "Python 3"
    },
    "language_info": {
      "name": "python"
    }
  },
  "cells": [
    {
      "cell_type": "code",
      "execution_count": null,
      "metadata": {
        "id": "FSHpKYjJkAn6"
      },
      "outputs": [],
      "source": [
        "import pandas as pd\n",
        "import tensorflow\n",
        "from tensorflow import keras\n",
        "from keras.models import Sequential\n",
        "from keras.layers import Dense, Dropout\n",
        "from sklearn.model_selection import train_test_split\n",
        "import seaborn as sns\n",
        "import matplotlib.pyplot as plt\n",
        "from sklearn.preprocessing import LabelEncoder"
      ]
    },
    {
      "cell_type": "markdown",
      "source": [
        "**Content**\n",
        "\n",
        "---\n",
        "\n",
        "\n",
        "This dataset contains 7 features and a label column.<br>\n",
        "\n",
        "long_hair - This column contains 0's and 1's where 1 is \"long hair\" and 0 is \"not long hair\".<br>\n",
        "forehead_width_cm - This column is in CM's. This is the width of the forehead.<br>\n",
        "forehead_height_cm - This is the height of the forehead and it's in Cm's.<br>\n",
        "nose_wide - This column contains 0's and 1's where 1 is \"wide nose\" and 0 is \"not wide nose\".<br>\n",
        "nose_long - This column contains 0's and 1's where 1 is \"Long nose\" and 0 is \"not long nose\".<br>\n",
        "lips_thin - This column contains 0's and 1's where 1 represents the \"thin lips\" while 0 is \"Not thin lips\".<br>\n",
        "distance_nose_to_lip_long - <br>\n",
        "This column contains 0's and 1's where 1 represents the \"long distance between nose and lips\" while 0 is \"short distance between nose and lips\".<br>\n",
        "\n",
        "gender - This is either \"Male\" or \"Female\"."
      ],
      "metadata": {
        "id": "T2EukF8bSDTc"
      }
    },
    {
      "cell_type": "code",
      "source": [
        "#loading data\n",
        "df = pd.read_csv('/content/gender_classification_v7.csv')"
      ],
      "metadata": {
        "id": "3YrzVQBlkyal"
      },
      "execution_count": null,
      "outputs": []
    },
    {
      "cell_type": "code",
      "source": [
        "df.head()"
      ],
      "metadata": {
        "colab": {
          "base_uri": "https://localhost:8080/",
          "height": 206
        },
        "id": "VQXBoit1kz3Q",
        "outputId": "f3fbea0c-8f8a-4205-80e8-481127011bfd"
      },
      "execution_count": null,
      "outputs": [
        {
          "output_type": "execute_result",
          "data": {
            "text/plain": [
              "   long_hair  forehead_width_cm  forehead_height_cm  nose_wide  nose_long  \\\n",
              "0          1               11.8                 6.1          1          0   \n",
              "1          0               14.0                 5.4          0          0   \n",
              "2          0               11.8                 6.3          1          1   \n",
              "3          0               14.4                 6.1          0          1   \n",
              "4          1               13.5                 5.9          0          0   \n",
              "\n",
              "   lips_thin  distance_nose_to_lip_long  gender  \n",
              "0          1                          1    Male  \n",
              "1          1                          0  Female  \n",
              "2          1                          1    Male  \n",
              "3          1                          1    Male  \n",
              "4          0                          0  Female  "
            ],
            "text/html": [
              "\n",
              "  <div id=\"df-c9dd2536-4620-4178-a8dc-6e70c0763463\" class=\"colab-df-container\">\n",
              "    <div>\n",
              "<style scoped>\n",
              "    .dataframe tbody tr th:only-of-type {\n",
              "        vertical-align: middle;\n",
              "    }\n",
              "\n",
              "    .dataframe tbody tr th {\n",
              "        vertical-align: top;\n",
              "    }\n",
              "\n",
              "    .dataframe thead th {\n",
              "        text-align: right;\n",
              "    }\n",
              "</style>\n",
              "<table border=\"1\" class=\"dataframe\">\n",
              "  <thead>\n",
              "    <tr style=\"text-align: right;\">\n",
              "      <th></th>\n",
              "      <th>long_hair</th>\n",
              "      <th>forehead_width_cm</th>\n",
              "      <th>forehead_height_cm</th>\n",
              "      <th>nose_wide</th>\n",
              "      <th>nose_long</th>\n",
              "      <th>lips_thin</th>\n",
              "      <th>distance_nose_to_lip_long</th>\n",
              "      <th>gender</th>\n",
              "    </tr>\n",
              "  </thead>\n",
              "  <tbody>\n",
              "    <tr>\n",
              "      <th>0</th>\n",
              "      <td>1</td>\n",
              "      <td>11.8</td>\n",
              "      <td>6.1</td>\n",
              "      <td>1</td>\n",
              "      <td>0</td>\n",
              "      <td>1</td>\n",
              "      <td>1</td>\n",
              "      <td>Male</td>\n",
              "    </tr>\n",
              "    <tr>\n",
              "      <th>1</th>\n",
              "      <td>0</td>\n",
              "      <td>14.0</td>\n",
              "      <td>5.4</td>\n",
              "      <td>0</td>\n",
              "      <td>0</td>\n",
              "      <td>1</td>\n",
              "      <td>0</td>\n",
              "      <td>Female</td>\n",
              "    </tr>\n",
              "    <tr>\n",
              "      <th>2</th>\n",
              "      <td>0</td>\n",
              "      <td>11.8</td>\n",
              "      <td>6.3</td>\n",
              "      <td>1</td>\n",
              "      <td>1</td>\n",
              "      <td>1</td>\n",
              "      <td>1</td>\n",
              "      <td>Male</td>\n",
              "    </tr>\n",
              "    <tr>\n",
              "      <th>3</th>\n",
              "      <td>0</td>\n",
              "      <td>14.4</td>\n",
              "      <td>6.1</td>\n",
              "      <td>0</td>\n",
              "      <td>1</td>\n",
              "      <td>1</td>\n",
              "      <td>1</td>\n",
              "      <td>Male</td>\n",
              "    </tr>\n",
              "    <tr>\n",
              "      <th>4</th>\n",
              "      <td>1</td>\n",
              "      <td>13.5</td>\n",
              "      <td>5.9</td>\n",
              "      <td>0</td>\n",
              "      <td>0</td>\n",
              "      <td>0</td>\n",
              "      <td>0</td>\n",
              "      <td>Female</td>\n",
              "    </tr>\n",
              "  </tbody>\n",
              "</table>\n",
              "</div>\n",
              "    <div class=\"colab-df-buttons\">\n",
              "\n",
              "  <div class=\"colab-df-container\">\n",
              "    <button class=\"colab-df-convert\" onclick=\"convertToInteractive('df-c9dd2536-4620-4178-a8dc-6e70c0763463')\"\n",
              "            title=\"Convert this dataframe to an interactive table.\"\n",
              "            style=\"display:none;\">\n",
              "\n",
              "  <svg xmlns=\"http://www.w3.org/2000/svg\" height=\"24px\" viewBox=\"0 -960 960 960\">\n",
              "    <path d=\"M120-120v-720h720v720H120Zm60-500h600v-160H180v160Zm220 220h160v-160H400v160Zm0 220h160v-160H400v160ZM180-400h160v-160H180v160Zm440 0h160v-160H620v160ZM180-180h160v-160H180v160Zm440 0h160v-160H620v160Z\"/>\n",
              "  </svg>\n",
              "    </button>\n",
              "\n",
              "  <style>\n",
              "    .colab-df-container {\n",
              "      display:flex;\n",
              "      gap: 12px;\n",
              "    }\n",
              "\n",
              "    .colab-df-convert {\n",
              "      background-color: #E8F0FE;\n",
              "      border: none;\n",
              "      border-radius: 50%;\n",
              "      cursor: pointer;\n",
              "      display: none;\n",
              "      fill: #1967D2;\n",
              "      height: 32px;\n",
              "      padding: 0 0 0 0;\n",
              "      width: 32px;\n",
              "    }\n",
              "\n",
              "    .colab-df-convert:hover {\n",
              "      background-color: #E2EBFA;\n",
              "      box-shadow: 0px 1px 2px rgba(60, 64, 67, 0.3), 0px 1px 3px 1px rgba(60, 64, 67, 0.15);\n",
              "      fill: #174EA6;\n",
              "    }\n",
              "\n",
              "    .colab-df-buttons div {\n",
              "      margin-bottom: 4px;\n",
              "    }\n",
              "\n",
              "    [theme=dark] .colab-df-convert {\n",
              "      background-color: #3B4455;\n",
              "      fill: #D2E3FC;\n",
              "    }\n",
              "\n",
              "    [theme=dark] .colab-df-convert:hover {\n",
              "      background-color: #434B5C;\n",
              "      box-shadow: 0px 1px 3px 1px rgba(0, 0, 0, 0.15);\n",
              "      filter: drop-shadow(0px 1px 2px rgba(0, 0, 0, 0.3));\n",
              "      fill: #FFFFFF;\n",
              "    }\n",
              "  </style>\n",
              "\n",
              "    <script>\n",
              "      const buttonEl =\n",
              "        document.querySelector('#df-c9dd2536-4620-4178-a8dc-6e70c0763463 button.colab-df-convert');\n",
              "      buttonEl.style.display =\n",
              "        google.colab.kernel.accessAllowed ? 'block' : 'none';\n",
              "\n",
              "      async function convertToInteractive(key) {\n",
              "        const element = document.querySelector('#df-c9dd2536-4620-4178-a8dc-6e70c0763463');\n",
              "        const dataTable =\n",
              "          await google.colab.kernel.invokeFunction('convertToInteractive',\n",
              "                                                    [key], {});\n",
              "        if (!dataTable) return;\n",
              "\n",
              "        const docLinkHtml = 'Like what you see? Visit the ' +\n",
              "          '<a target=\"_blank\" href=https://colab.research.google.com/notebooks/data_table.ipynb>data table notebook</a>'\n",
              "          + ' to learn more about interactive tables.';\n",
              "        element.innerHTML = '';\n",
              "        dataTable['output_type'] = 'display_data';\n",
              "        await google.colab.output.renderOutput(dataTable, element);\n",
              "        const docLink = document.createElement('div');\n",
              "        docLink.innerHTML = docLinkHtml;\n",
              "        element.appendChild(docLink);\n",
              "      }\n",
              "    </script>\n",
              "  </div>\n",
              "\n",
              "\n",
              "<div id=\"df-b83b4ccd-8c48-45d5-a0cc-95ce1d3a92bc\">\n",
              "  <button class=\"colab-df-quickchart\" onclick=\"quickchart('df-b83b4ccd-8c48-45d5-a0cc-95ce1d3a92bc')\"\n",
              "            title=\"Suggest charts\"\n",
              "            style=\"display:none;\">\n",
              "\n",
              "<svg xmlns=\"http://www.w3.org/2000/svg\" height=\"24px\"viewBox=\"0 0 24 24\"\n",
              "     width=\"24px\">\n",
              "    <g>\n",
              "        <path d=\"M19 3H5c-1.1 0-2 .9-2 2v14c0 1.1.9 2 2 2h14c1.1 0 2-.9 2-2V5c0-1.1-.9-2-2-2zM9 17H7v-7h2v7zm4 0h-2V7h2v10zm4 0h-2v-4h2v4z\"/>\n",
              "    </g>\n",
              "</svg>\n",
              "  </button>\n",
              "\n",
              "<style>\n",
              "  .colab-df-quickchart {\n",
              "      --bg-color: #E8F0FE;\n",
              "      --fill-color: #1967D2;\n",
              "      --hover-bg-color: #E2EBFA;\n",
              "      --hover-fill-color: #174EA6;\n",
              "      --disabled-fill-color: #AAA;\n",
              "      --disabled-bg-color: #DDD;\n",
              "  }\n",
              "\n",
              "  [theme=dark] .colab-df-quickchart {\n",
              "      --bg-color: #3B4455;\n",
              "      --fill-color: #D2E3FC;\n",
              "      --hover-bg-color: #434B5C;\n",
              "      --hover-fill-color: #FFFFFF;\n",
              "      --disabled-bg-color: #3B4455;\n",
              "      --disabled-fill-color: #666;\n",
              "  }\n",
              "\n",
              "  .colab-df-quickchart {\n",
              "    background-color: var(--bg-color);\n",
              "    border: none;\n",
              "    border-radius: 50%;\n",
              "    cursor: pointer;\n",
              "    display: none;\n",
              "    fill: var(--fill-color);\n",
              "    height: 32px;\n",
              "    padding: 0;\n",
              "    width: 32px;\n",
              "  }\n",
              "\n",
              "  .colab-df-quickchart:hover {\n",
              "    background-color: var(--hover-bg-color);\n",
              "    box-shadow: 0 1px 2px rgba(60, 64, 67, 0.3), 0 1px 3px 1px rgba(60, 64, 67, 0.15);\n",
              "    fill: var(--button-hover-fill-color);\n",
              "  }\n",
              "\n",
              "  .colab-df-quickchart-complete:disabled,\n",
              "  .colab-df-quickchart-complete:disabled:hover {\n",
              "    background-color: var(--disabled-bg-color);\n",
              "    fill: var(--disabled-fill-color);\n",
              "    box-shadow: none;\n",
              "  }\n",
              "\n",
              "  .colab-df-spinner {\n",
              "    border: 2px solid var(--fill-color);\n",
              "    border-color: transparent;\n",
              "    border-bottom-color: var(--fill-color);\n",
              "    animation:\n",
              "      spin 1s steps(1) infinite;\n",
              "  }\n",
              "\n",
              "  @keyframes spin {\n",
              "    0% {\n",
              "      border-color: transparent;\n",
              "      border-bottom-color: var(--fill-color);\n",
              "      border-left-color: var(--fill-color);\n",
              "    }\n",
              "    20% {\n",
              "      border-color: transparent;\n",
              "      border-left-color: var(--fill-color);\n",
              "      border-top-color: var(--fill-color);\n",
              "    }\n",
              "    30% {\n",
              "      border-color: transparent;\n",
              "      border-left-color: var(--fill-color);\n",
              "      border-top-color: var(--fill-color);\n",
              "      border-right-color: var(--fill-color);\n",
              "    }\n",
              "    40% {\n",
              "      border-color: transparent;\n",
              "      border-right-color: var(--fill-color);\n",
              "      border-top-color: var(--fill-color);\n",
              "    }\n",
              "    60% {\n",
              "      border-color: transparent;\n",
              "      border-right-color: var(--fill-color);\n",
              "    }\n",
              "    80% {\n",
              "      border-color: transparent;\n",
              "      border-right-color: var(--fill-color);\n",
              "      border-bottom-color: var(--fill-color);\n",
              "    }\n",
              "    90% {\n",
              "      border-color: transparent;\n",
              "      border-bottom-color: var(--fill-color);\n",
              "    }\n",
              "  }\n",
              "</style>\n",
              "\n",
              "  <script>\n",
              "    async function quickchart(key) {\n",
              "      const quickchartButtonEl =\n",
              "        document.querySelector('#' + key + ' button');\n",
              "      quickchartButtonEl.disabled = true;  // To prevent multiple clicks.\n",
              "      quickchartButtonEl.classList.add('colab-df-spinner');\n",
              "      try {\n",
              "        const charts = await google.colab.kernel.invokeFunction(\n",
              "            'suggestCharts', [key], {});\n",
              "      } catch (error) {\n",
              "        console.error('Error during call to suggestCharts:', error);\n",
              "      }\n",
              "      quickchartButtonEl.classList.remove('colab-df-spinner');\n",
              "      quickchartButtonEl.classList.add('colab-df-quickchart-complete');\n",
              "    }\n",
              "    (() => {\n",
              "      let quickchartButtonEl =\n",
              "        document.querySelector('#df-b83b4ccd-8c48-45d5-a0cc-95ce1d3a92bc button');\n",
              "      quickchartButtonEl.style.display =\n",
              "        google.colab.kernel.accessAllowed ? 'block' : 'none';\n",
              "    })();\n",
              "  </script>\n",
              "</div>\n",
              "\n",
              "    </div>\n",
              "  </div>\n"
            ],
            "application/vnd.google.colaboratory.intrinsic+json": {
              "type": "dataframe",
              "variable_name": "df",
              "summary": "{\n  \"name\": \"df\",\n  \"rows\": 5001,\n  \"fields\": [\n    {\n      \"column\": \"long_hair\",\n      \"properties\": {\n        \"dtype\": \"number\",\n        \"std\": 0,\n        \"min\": 0,\n        \"max\": 1,\n        \"num_unique_values\": 2,\n        \"samples\": [\n          0,\n          1\n        ],\n        \"semantic_type\": \"\",\n        \"description\": \"\"\n      }\n    },\n    {\n      \"column\": \"forehead_width_cm\",\n      \"properties\": {\n        \"dtype\": \"number\",\n        \"std\": 1.1071283024945044,\n        \"min\": 11.4,\n        \"max\": 15.5,\n        \"num_unique_values\": 42,\n        \"samples\": [\n          11.4,\n          15.2\n        ],\n        \"semantic_type\": \"\",\n        \"description\": \"\"\n      }\n    },\n    {\n      \"column\": \"forehead_height_cm\",\n      \"properties\": {\n        \"dtype\": \"number\",\n        \"std\": 0.5412678510891585,\n        \"min\": 5.1,\n        \"max\": 7.1,\n        \"num_unique_values\": 21,\n        \"samples\": [\n          6.1,\n          5.5\n        ],\n        \"semantic_type\": \"\",\n        \"description\": \"\"\n      }\n    },\n    {\n      \"column\": \"nose_wide\",\n      \"properties\": {\n        \"dtype\": \"number\",\n        \"std\": 0,\n        \"min\": 0,\n        \"max\": 1,\n        \"num_unique_values\": 2,\n        \"samples\": [\n          0,\n          1\n        ],\n        \"semantic_type\": \"\",\n        \"description\": \"\"\n      }\n    },\n    {\n      \"column\": \"nose_long\",\n      \"properties\": {\n        \"dtype\": \"number\",\n        \"std\": 0,\n        \"min\": 0,\n        \"max\": 1,\n        \"num_unique_values\": 2,\n        \"samples\": [\n          1,\n          0\n        ],\n        \"semantic_type\": \"\",\n        \"description\": \"\"\n      }\n    },\n    {\n      \"column\": \"lips_thin\",\n      \"properties\": {\n        \"dtype\": \"number\",\n        \"std\": 0,\n        \"min\": 0,\n        \"max\": 1,\n        \"num_unique_values\": 2,\n        \"samples\": [\n          0,\n          1\n        ],\n        \"semantic_type\": \"\",\n        \"description\": \"\"\n      }\n    },\n    {\n      \"column\": \"distance_nose_to_lip_long\",\n      \"properties\": {\n        \"dtype\": \"number\",\n        \"std\": 0,\n        \"min\": 0,\n        \"max\": 1,\n        \"num_unique_values\": 2,\n        \"samples\": [\n          0,\n          1\n        ],\n        \"semantic_type\": \"\",\n        \"description\": \"\"\n      }\n    },\n    {\n      \"column\": \"gender\",\n      \"properties\": {\n        \"dtype\": \"category\",\n        \"num_unique_values\": 2,\n        \"samples\": [\n          \"Female\",\n          \"Male\"\n        ],\n        \"semantic_type\": \"\",\n        \"description\": \"\"\n      }\n    }\n  ]\n}"
            }
          },
          "metadata": {},
          "execution_count": 3
        }
      ]
    },
    {
      "cell_type": "code",
      "source": [
        "df.shape"
      ],
      "metadata": {
        "colab": {
          "base_uri": "https://localhost:8080/"
        },
        "id": "PaaAPMV8JkRa",
        "outputId": "ecf7ff8b-2000-4f85-80d6-cba9bcc65e59"
      },
      "execution_count": null,
      "outputs": [
        {
          "output_type": "execute_result",
          "data": {
            "text/plain": [
              "(5001, 8)"
            ]
          },
          "metadata": {},
          "execution_count": 4
        }
      ]
    },
    {
      "cell_type": "code",
      "source": [
        "df.isna().sum()"
      ],
      "metadata": {
        "colab": {
          "base_uri": "https://localhost:8080/"
        },
        "id": "M6xzT74GKc0d",
        "outputId": "2913f63f-0df0-4b73-8fe3-3d645a8e238c"
      },
      "execution_count": null,
      "outputs": [
        {
          "output_type": "execute_result",
          "data": {
            "text/plain": [
              "long_hair                    0\n",
              "forehead_width_cm            0\n",
              "forehead_height_cm           0\n",
              "nose_wide                    0\n",
              "nose_long                    0\n",
              "lips_thin                    0\n",
              "distance_nose_to_lip_long    0\n",
              "gender                       0\n",
              "dtype: int64"
            ]
          },
          "metadata": {},
          "execution_count": 5
        }
      ]
    },
    {
      "cell_type": "code",
      "source": [
        "df.duplicated().sum()"
      ],
      "metadata": {
        "colab": {
          "base_uri": "https://localhost:8080/"
        },
        "id": "kgK5Iv5yKnBE",
        "outputId": "a805ad0b-31d1-45c8-e96c-81d858458e42"
      },
      "execution_count": null,
      "outputs": [
        {
          "output_type": "execute_result",
          "data": {
            "text/plain": [
              "1768"
            ]
          },
          "metadata": {},
          "execution_count": 6
        }
      ]
    },
    {
      "cell_type": "code",
      "source": [
        "df.drop_duplicates(inplace=True)"
      ],
      "metadata": {
        "id": "qgTcCePBK3Rg"
      },
      "execution_count": null,
      "outputs": []
    },
    {
      "cell_type": "code",
      "source": [
        "df.shape"
      ],
      "metadata": {
        "colab": {
          "base_uri": "https://localhost:8080/"
        },
        "id": "l5eSXeAYLSLS",
        "outputId": "c18b2026-6c1b-47d9-c6b1-ec9637871ecb"
      },
      "execution_count": null,
      "outputs": [
        {
          "output_type": "execute_result",
          "data": {
            "text/plain": [
              "(3233, 8)"
            ]
          },
          "metadata": {},
          "execution_count": 8
        }
      ]
    },
    {
      "cell_type": "code",
      "source": [
        "df.info()"
      ],
      "metadata": {
        "colab": {
          "base_uri": "https://localhost:8080/"
        },
        "id": "DLt8J82JLJ87",
        "outputId": "a0679de5-8236-4868-fab2-5f3a54b230a1"
      },
      "execution_count": null,
      "outputs": [
        {
          "output_type": "stream",
          "name": "stdout",
          "text": [
            "<class 'pandas.core.frame.DataFrame'>\n",
            "Index: 3233 entries, 0 to 4995\n",
            "Data columns (total 8 columns):\n",
            " #   Column                     Non-Null Count  Dtype  \n",
            "---  ------                     --------------  -----  \n",
            " 0   long_hair                  3233 non-null   int64  \n",
            " 1   forehead_width_cm          3233 non-null   float64\n",
            " 2   forehead_height_cm         3233 non-null   float64\n",
            " 3   nose_wide                  3233 non-null   int64  \n",
            " 4   nose_long                  3233 non-null   int64  \n",
            " 5   lips_thin                  3233 non-null   int64  \n",
            " 6   distance_nose_to_lip_long  3233 non-null   int64  \n",
            " 7   gender                     3233 non-null   object \n",
            "dtypes: float64(2), int64(5), object(1)\n",
            "memory usage: 227.3+ KB\n"
          ]
        }
      ]
    },
    {
      "cell_type": "code",
      "source": [
        "x = df.drop(['gender'], axis = 1)\n",
        "y = df['gender']"
      ],
      "metadata": {
        "id": "IXTMGuGTlYJG"
      },
      "execution_count": null,
      "outputs": []
    },
    {
      "cell_type": "code",
      "source": [
        "le = LabelEncoder()\n",
        "y_encoded = le.fit_transform(y)"
      ],
      "metadata": {
        "id": "YujUDe5kUS7r"
      },
      "execution_count": null,
      "outputs": []
    },
    {
      "cell_type": "code",
      "source": [
        "X_train, X_test, y_train, y_test = train_test_split(x, y_encoded, test_size=0.2, random_state=42)"
      ],
      "metadata": {
        "id": "QM3A3vWhlhXx"
      },
      "execution_count": null,
      "outputs": []
    },
    {
      "cell_type": "code",
      "source": [
        "model=Sequential()\n",
        "model.add(Dense(24, activation=\"relu\", input_dim=7))\n",
        "model.add(Dense(16, activation=\"relu\"))\n",
        "model.add(Dropout(0.2))\n",
        "model.add(Dense(1,activation=\"sigmoid\"))"
      ],
      "metadata": {
        "id": "z6Mj0US3ln21"
      },
      "execution_count": null,
      "outputs": []
    },
    {
      "cell_type": "code",
      "source": [
        "model.compile(loss='binary_crossentropy', optimizer='adam', metrics=['accuracy'])"
      ],
      "metadata": {
        "id": "h0UxHYA2lytS"
      },
      "execution_count": null,
      "outputs": []
    },
    {
      "cell_type": "code",
      "source": [
        "history = model.fit(X_train,y_train, validation_data = (X_test, y_test), epochs=50)"
      ],
      "metadata": {
        "colab": {
          "base_uri": "https://localhost:8080/"
        },
        "id": "xJ7V6BJtl6RU",
        "outputId": "abf5caf4-4c9e-41ea-c1e8-a5b8521e3040"
      },
      "execution_count": null,
      "outputs": [
        {
          "output_type": "stream",
          "name": "stdout",
          "text": [
            "Epoch 1/50\n",
            "81/81 [==============================] - 3s 16ms/step - loss: 0.6695 - accuracy: 0.5913 - val_loss: 0.5916 - val_accuracy: 0.6136\n",
            "Epoch 2/50\n",
            "81/81 [==============================] - 1s 18ms/step - loss: 0.5545 - accuracy: 0.7347 - val_loss: 0.4725 - val_accuracy: 0.8872\n",
            "Epoch 3/50\n",
            "81/81 [==============================] - 0s 5ms/step - loss: 0.4356 - accuracy: 0.8488 - val_loss: 0.3505 - val_accuracy: 0.9274\n",
            "Epoch 4/50\n",
            "81/81 [==============================] - 0s 4ms/step - loss: 0.3449 - accuracy: 0.8840 - val_loss: 0.2603 - val_accuracy: 0.9366\n",
            "Epoch 5/50\n",
            "81/81 [==============================] - 0s 3ms/step - loss: 0.2709 - accuracy: 0.9064 - val_loss: 0.2155 - val_accuracy: 0.9397\n",
            "Epoch 6/50\n",
            "81/81 [==============================] - 0s 3ms/step - loss: 0.2374 - accuracy: 0.9122 - val_loss: 0.1757 - val_accuracy: 0.9397\n",
            "Epoch 7/50\n",
            "81/81 [==============================] - 0s 3ms/step - loss: 0.2078 - accuracy: 0.9215 - val_loss: 0.1623 - val_accuracy: 0.9366\n",
            "Epoch 8/50\n",
            "81/81 [==============================] - 0s 3ms/step - loss: 0.1952 - accuracy: 0.9234 - val_loss: 0.1473 - val_accuracy: 0.9335\n",
            "Epoch 9/50\n",
            "81/81 [==============================] - 0s 3ms/step - loss: 0.1881 - accuracy: 0.9211 - val_loss: 0.1431 - val_accuracy: 0.9382\n",
            "Epoch 10/50\n",
            "81/81 [==============================] - 0s 3ms/step - loss: 0.1747 - accuracy: 0.9261 - val_loss: 0.1386 - val_accuracy: 0.9366\n",
            "Epoch 11/50\n",
            "81/81 [==============================] - 0s 3ms/step - loss: 0.1796 - accuracy: 0.9265 - val_loss: 0.1352 - val_accuracy: 0.9351\n",
            "Epoch 12/50\n",
            "81/81 [==============================] - 0s 3ms/step - loss: 0.1743 - accuracy: 0.9250 - val_loss: 0.1332 - val_accuracy: 0.9335\n",
            "Epoch 13/50\n",
            "81/81 [==============================] - 0s 3ms/step - loss: 0.1729 - accuracy: 0.9242 - val_loss: 0.1395 - val_accuracy: 0.9444\n",
            "Epoch 14/50\n",
            "81/81 [==============================] - 0s 3ms/step - loss: 0.1708 - accuracy: 0.9227 - val_loss: 0.1312 - val_accuracy: 0.9335\n",
            "Epoch 15/50\n",
            "81/81 [==============================] - 0s 3ms/step - loss: 0.1679 - accuracy: 0.9265 - val_loss: 0.1300 - val_accuracy: 0.9320\n",
            "Epoch 16/50\n",
            "81/81 [==============================] - 0s 3ms/step - loss: 0.1700 - accuracy: 0.9281 - val_loss: 0.1304 - val_accuracy: 0.9289\n",
            "Epoch 17/50\n",
            "81/81 [==============================] - 0s 3ms/step - loss: 0.1671 - accuracy: 0.9250 - val_loss: 0.1319 - val_accuracy: 0.9335\n",
            "Epoch 18/50\n",
            "81/81 [==============================] - 0s 3ms/step - loss: 0.1727 - accuracy: 0.9215 - val_loss: 0.1307 - val_accuracy: 0.9274\n",
            "Epoch 19/50\n",
            "81/81 [==============================] - 0s 3ms/step - loss: 0.1687 - accuracy: 0.9288 - val_loss: 0.1294 - val_accuracy: 0.9320\n",
            "Epoch 20/50\n",
            "81/81 [==============================] - 0s 3ms/step - loss: 0.1630 - accuracy: 0.9238 - val_loss: 0.1335 - val_accuracy: 0.9428\n",
            "Epoch 21/50\n",
            "81/81 [==============================] - 1s 7ms/step - loss: 0.1620 - accuracy: 0.9316 - val_loss: 0.1303 - val_accuracy: 0.9351\n",
            "Epoch 22/50\n",
            "81/81 [==============================] - 0s 4ms/step - loss: 0.1614 - accuracy: 0.9300 - val_loss: 0.1298 - val_accuracy: 0.9351\n",
            "Epoch 23/50\n",
            "81/81 [==============================] - 0s 3ms/step - loss: 0.1649 - accuracy: 0.9254 - val_loss: 0.1310 - val_accuracy: 0.9351\n",
            "Epoch 24/50\n",
            "81/81 [==============================] - 1s 8ms/step - loss: 0.1641 - accuracy: 0.9312 - val_loss: 0.1321 - val_accuracy: 0.9366\n",
            "Epoch 25/50\n",
            "81/81 [==============================] - 0s 3ms/step - loss: 0.1579 - accuracy: 0.9269 - val_loss: 0.1272 - val_accuracy: 0.9258\n",
            "Epoch 26/50\n",
            "81/81 [==============================] - 0s 3ms/step - loss: 0.1656 - accuracy: 0.9258 - val_loss: 0.1335 - val_accuracy: 0.9397\n",
            "Epoch 27/50\n",
            "81/81 [==============================] - 0s 3ms/step - loss: 0.1657 - accuracy: 0.9230 - val_loss: 0.1286 - val_accuracy: 0.9304\n",
            "Epoch 28/50\n",
            "81/81 [==============================] - 0s 3ms/step - loss: 0.1569 - accuracy: 0.9292 - val_loss: 0.1317 - val_accuracy: 0.9382\n",
            "Epoch 29/50\n",
            "81/81 [==============================] - 0s 3ms/step - loss: 0.1639 - accuracy: 0.9261 - val_loss: 0.1381 - val_accuracy: 0.9428\n",
            "Epoch 30/50\n",
            "81/81 [==============================] - 0s 3ms/step - loss: 0.1649 - accuracy: 0.9308 - val_loss: 0.1274 - val_accuracy: 0.9289\n",
            "Epoch 31/50\n",
            "81/81 [==============================] - 0s 3ms/step - loss: 0.1637 - accuracy: 0.9300 - val_loss: 0.1353 - val_accuracy: 0.9428\n",
            "Epoch 32/50\n",
            "81/81 [==============================] - 0s 3ms/step - loss: 0.1564 - accuracy: 0.9304 - val_loss: 0.1300 - val_accuracy: 0.9366\n",
            "Epoch 33/50\n",
            "81/81 [==============================] - 0s 3ms/step - loss: 0.1617 - accuracy: 0.9312 - val_loss: 0.1271 - val_accuracy: 0.9289\n",
            "Epoch 34/50\n",
            "81/81 [==============================] - 0s 3ms/step - loss: 0.1543 - accuracy: 0.9316 - val_loss: 0.1454 - val_accuracy: 0.9444\n",
            "Epoch 35/50\n",
            "81/81 [==============================] - 0s 3ms/step - loss: 0.1568 - accuracy: 0.9350 - val_loss: 0.1288 - val_accuracy: 0.9289\n",
            "Epoch 36/50\n",
            "81/81 [==============================] - 0s 3ms/step - loss: 0.1552 - accuracy: 0.9288 - val_loss: 0.1316 - val_accuracy: 0.9413\n",
            "Epoch 37/50\n",
            "81/81 [==============================] - 0s 3ms/step - loss: 0.1581 - accuracy: 0.9316 - val_loss: 0.1295 - val_accuracy: 0.9382\n",
            "Epoch 38/50\n",
            "81/81 [==============================] - 0s 3ms/step - loss: 0.1564 - accuracy: 0.9319 - val_loss: 0.1272 - val_accuracy: 0.9304\n",
            "Epoch 39/50\n",
            "81/81 [==============================] - 0s 3ms/step - loss: 0.1599 - accuracy: 0.9273 - val_loss: 0.1274 - val_accuracy: 0.9304\n",
            "Epoch 40/50\n",
            "81/81 [==============================] - 0s 5ms/step - loss: 0.1569 - accuracy: 0.9254 - val_loss: 0.1262 - val_accuracy: 0.9289\n",
            "Epoch 41/50\n",
            "81/81 [==============================] - 0s 4ms/step - loss: 0.1603 - accuracy: 0.9285 - val_loss: 0.1269 - val_accuracy: 0.9320\n",
            "Epoch 42/50\n",
            "81/81 [==============================] - 0s 5ms/step - loss: 0.1518 - accuracy: 0.9312 - val_loss: 0.1264 - val_accuracy: 0.9258\n",
            "Epoch 43/50\n",
            "81/81 [==============================] - 0s 4ms/step - loss: 0.1544 - accuracy: 0.9323 - val_loss: 0.1267 - val_accuracy: 0.9335\n",
            "Epoch 44/50\n",
            "81/81 [==============================] - 0s 4ms/step - loss: 0.1533 - accuracy: 0.9350 - val_loss: 0.1295 - val_accuracy: 0.9366\n",
            "Epoch 45/50\n",
            "81/81 [==============================] - 0s 5ms/step - loss: 0.1575 - accuracy: 0.9323 - val_loss: 0.1310 - val_accuracy: 0.9413\n",
            "Epoch 46/50\n",
            "81/81 [==============================] - 0s 5ms/step - loss: 0.1579 - accuracy: 0.9285 - val_loss: 0.1297 - val_accuracy: 0.9444\n",
            "Epoch 47/50\n",
            "81/81 [==============================] - 0s 4ms/step - loss: 0.1528 - accuracy: 0.9265 - val_loss: 0.1300 - val_accuracy: 0.9428\n",
            "Epoch 48/50\n",
            "81/81 [==============================] - 0s 3ms/step - loss: 0.1527 - accuracy: 0.9327 - val_loss: 0.1263 - val_accuracy: 0.9335\n",
            "Epoch 49/50\n",
            "81/81 [==============================] - 0s 3ms/step - loss: 0.1558 - accuracy: 0.9285 - val_loss: 0.1258 - val_accuracy: 0.9258\n",
            "Epoch 50/50\n",
            "81/81 [==============================] - 0s 3ms/step - loss: 0.1519 - accuracy: 0.9300 - val_loss: 0.1256 - val_accuracy: 0.9274\n"
          ]
        }
      ]
    },
    {
      "cell_type": "code",
      "source": [
        "sns.set(style=\"whitegrid\")\n",
        "sns.lineplot(history.history['loss'], label='Training Loss')\n",
        "sns.lineplot(history.history['val_loss'], label='Testing Loss')\n",
        "plt.ylabel('loss')\n",
        "plt.xlabel('Epochs')\n",
        "\n",
        "plt.legend()\n",
        "plt.show()"
      ],
      "metadata": {
        "colab": {
          "base_uri": "https://localhost:8080/",
          "height": 458
        },
        "id": "vDt9xbpRogNH",
        "outputId": "7cd16285-f6f4-4706-9158-d1875d0ebf2e"
      },
      "execution_count": null,
      "outputs": [
        {
          "output_type": "display_data",
          "data": {
            "text/plain": [
              "<Figure size 640x480 with 1 Axes>"
            ],
            "image/png": "[encoded data removed]"
          },
          "metadata": {}
        }
      ]
    },
    {
      "cell_type": "code",
      "source": [
        "loss_test, accuracy_test = model.evaluate(X_test, y_test, verbose=0)\n",
        "loss_train, accuracy_train = model.evaluate(X_train, y_train, verbose=0)\n",
        "print('Testing Loss: %.2f' % loss_test)\n",
        "print('Testing Accuracy: %.2f' % (accuracy_test * 100) + '%')\n",
        "print(\"*\" * 30)\n",
        "print('Training Loss: %.2f' % loss_train)\n",
        "print('Training Accuracy: %.2f' % (accuracy_train * 100) + '%')"
      ],
      "metadata": {
        "colab": {
          "base_uri": "https://localhost:8080/"
        },
        "id": "SaapR9oRopEY",
        "outputId": "76f4dcf5-3d0e-4fe3-b8ba-c30b2befe206"
      },
      "execution_count": null,
      "outputs": [
        {
          "output_type": "stream",
          "name": "stdout",
          "text": [
            "Testing Loss: 0.13\n",
            "Testing Accuracy: 92.74%\n",
            "******************************\n",
            "Training Loss: 0.14\n",
            "Training Accuracy: 93.12%\n"
          ]
        }
      ]
    },
    {
      "cell_type": "code",
      "source": [],
      "metadata": {
        "id": "CiRvU0gJWv_i"
      },
      "execution_count": null,
      "outputs": []
    }
  ]
}