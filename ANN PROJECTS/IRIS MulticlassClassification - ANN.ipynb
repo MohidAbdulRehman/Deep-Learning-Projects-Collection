{
  "nbformat": 4,
  "nbformat_minor": 0,
  "metadata": {
    "colab": {
      "provenance": []
    },
    "kernelspec": {
      "name": "python3",
      "display_name": "Python 3"
    },
    "language_info": {
      "name": "python"
    }
  },
  "cells": [
    {
      "cell_type": "code",
      "execution_count": null,
      "metadata": {
        "id": "FSHpKYjJkAn6"
      },
      "outputs": [],
      "source": [
        "import pandas as pd\n",
        "import tensorflow\n",
        "from tensorflow import keras\n",
        "from keras.models import Sequential\n",
        "from keras.layers import Dense\n",
        "from sklearn.model_selection import train_test_split\n",
        "import seaborn as sns\n",
        "import matplotlib.pyplot as plt\n"
      ]
    },
    {
      "cell_type": "code",
      "source": [
        "#loading data\n",
        "df = pd.read_csv('/content/IRIS.csv')"
      ],
      "metadata": {
        "id": "3YrzVQBlkyal"
      },
      "execution_count": null,
      "outputs": []
    },
    {
      "cell_type": "code",
      "source": [
        "df.head()"
      ],
      "metadata": {
        "colab": {
          "base_uri": "https://localhost:8080/",
          "height": 206
        },
        "id": "VQXBoit1kz3Q",
        "outputId": "e5c6704e-9ee6-4438-9c99-4f2fe99ed916"
      },
      "execution_count": null,
      "outputs": [
        {
          "output_type": "execute_result",
          "data": {
            "text/plain": [
              "   sepal_length  sepal_width  petal_length  petal_width      species\n",
              "0           5.1          3.5           1.4          0.2  Iris-setosa\n",
              "1           4.9          3.0           1.4          0.2  Iris-setosa\n",
              "2           4.7          3.2           1.3          0.2  Iris-setosa\n",
              "3           4.6          3.1           1.5          0.2  Iris-setosa\n",
              "4           5.0          3.6           1.4          0.2  Iris-setosa"
            ],
            "text/html": [
              "\n",
              "  <div id=\"df-a2c6ec8e-384e-4b83-b128-2d3d464a3139\" class=\"colab-df-container\">\n",
              "    <div>\n",
              "<style scoped>\n",
              "    .dataframe tbody tr th:only-of-type {\n",
              "        vertical-align: middle;\n",
              "    }\n",
              "\n",
              "    .dataframe tbody tr th {\n",
              "        vertical-align: top;\n",
              "    }\n",
              "\n",
              "    .dataframe thead th {\n",
              "        text-align: right;\n",
              "    }\n",
              "</style>\n",
              "<table border=\"1\" class=\"dataframe\">\n",
              "  <thead>\n",
              "    <tr style=\"text-align: right;\">\n",
              "      <th></th>\n",
              "      <th>sepal_length</th>\n",
              "      <th>sepal_width</th>\n",
              "      <th>petal_length</th>\n",
              "      <th>petal_width</th>\n",
              "      <th>species</th>\n",
              "    </tr>\n",
              "  </thead>\n",
              "  <tbody>\n",
              "    <tr>\n",
              "      <th>0</th>\n",
              "      <td>5.1</td>\n",
              "      <td>3.5</td>\n",
              "      <td>1.4</td>\n",
              "      <td>0.2</td>\n",
              "      <td>Iris-setosa</td>\n",
              "    </tr>\n",
              "    <tr>\n",
              "      <th>1</th>\n",
              "      <td>4.9</td>\n",
              "      <td>3.0</td>\n",
              "      <td>1.4</td>\n",
              "      <td>0.2</td>\n",
              "      <td>Iris-setosa</td>\n",
              "    </tr>\n",
              "    <tr>\n",
              "      <th>2</th>\n",
              "      <td>4.7</td>\n",
              "      <td>3.2</td>\n",
              "      <td>1.3</td>\n",
              "      <td>0.2</td>\n",
              "      <td>Iris-setosa</td>\n",
              "    </tr>\n",
              "    <tr>\n",
              "      <th>3</th>\n",
              "      <td>4.6</td>\n",
              "      <td>3.1</td>\n",
              "      <td>1.5</td>\n",
              "      <td>0.2</td>\n",
              "      <td>Iris-setosa</td>\n",
              "    </tr>\n",
              "    <tr>\n",
              "      <th>4</th>\n",
              "      <td>5.0</td>\n",
              "      <td>3.6</td>\n",
              "      <td>1.4</td>\n",
              "      <td>0.2</td>\n",
              "      <td>Iris-setosa</td>\n",
              "    </tr>\n",
              "  </tbody>\n",
              "</table>\n",
              "</div>\n",
              "    <div class=\"colab-df-buttons\">\n",
              "\n",
              "  <div class=\"colab-df-container\">\n",
              "    <button class=\"colab-df-convert\" onclick=\"convertToInteractive('df-a2c6ec8e-384e-4b83-b128-2d3d464a3139')\"\n",
              "            title=\"Convert this dataframe to an interactive table.\"\n",
              "            style=\"display:none;\">\n",
              "\n",
              "  <svg xmlns=\"http://www.w3.org/2000/svg\" height=\"24px\" viewBox=\"0 -960 960 960\">\n",
              "    <path d=\"M120-120v-720h720v720H120Zm60-500h600v-160H180v160Zm220 220h160v-160H400v160Zm0 220h160v-160H400v160ZM180-400h160v-160H180v160Zm440 0h160v-160H620v160ZM180-180h160v-160H180v160Zm440 0h160v-160H620v160Z\"/>\n",
              "  </svg>\n",
              "    </button>\n",
              "\n",
              "  <style>\n",
              "    .colab-df-container {\n",
              "      display:flex;\n",
              "      gap: 12px;\n",
              "    }\n",
              "\n",
              "    .colab-df-convert {\n",
              "      background-color: #E8F0FE;\n",
              "      border: none;\n",
              "      border-radius: 50%;\n",
              "      cursor: pointer;\n",
              "      display: none;\n",
              "      fill: #1967D2;\n",
              "      height: 32px;\n",
              "      padding: 0 0 0 0;\n",
              "      width: 32px;\n",
              "    }\n",
              "\n",
              "    .colab-df-convert:hover {\n",
              "      background-color: #E2EBFA;\n",
              "      box-shadow: 0px 1px 2px rgba(60, 64, 67, 0.3), 0px 1px 3px 1px rgba(60, 64, 67, 0.15);\n",
              "      fill: #174EA6;\n",
              "    }\n",
              "\n",
              "    .colab-df-buttons div {\n",
              "      margin-bottom: 4px;\n",
              "    }\n",
              "\n",
              "    [theme=dark] .colab-df-convert {\n",
              "      background-color: #3B4455;\n",
              "      fill: #D2E3FC;\n",
              "    }\n",
              "\n",
              "    [theme=dark] .colab-df-convert:hover {\n",
              "      background-color: #434B5C;\n",
              "      box-shadow: 0px 1px 3px 1px rgba(0, 0, 0, 0.15);\n",
              "      filter: drop-shadow(0px 1px 2px rgba(0, 0, 0, 0.3));\n",
              "      fill: #FFFFFF;\n",
              "    }\n",
              "  </style>\n",
              "\n",
              "    <script>\n",
              "      const buttonEl =\n",
              "        document.querySelector('#df-a2c6ec8e-384e-4b83-b128-2d3d464a3139 button.colab-df-convert');\n",
              "      buttonEl.style.display =\n",
              "        google.colab.kernel.accessAllowed ? 'block' : 'none';\n",
              "\n",
              "      async function convertToInteractive(key) {\n",
              "        const element = document.querySelector('#df-a2c6ec8e-384e-4b83-b128-2d3d464a3139');\n",
              "        const dataTable =\n",
              "          await google.colab.kernel.invokeFunction('convertToInteractive',\n",
              "                                                    [key], {});\n",
              "        if (!dataTable) return;\n",
              "\n",
              "        const docLinkHtml = 'Like what you see? Visit the ' +\n",
              "          '<a target=\"_blank\" href=https://colab.research.google.com/notebooks/data_table.ipynb>data table notebook</a>'\n",
              "          + ' to learn more about interactive tables.';\n",
              "        element.innerHTML = '';\n",
              "        dataTable['output_type'] = 'display_data';\n",
              "        await google.colab.output.renderOutput(dataTable, element);\n",
              "        const docLink = document.createElement('div');\n",
              "        docLink.innerHTML = docLinkHtml;\n",
              "        element.appendChild(docLink);\n",
              "      }\n",
              "    </script>\n",
              "  </div>\n",
              "\n",
              "\n",
              "<div id=\"df-95ade76d-a5f4-43d3-a797-af8bbbd32781\">\n",
              "  <button class=\"colab-df-quickchart\" onclick=\"quickchart('df-95ade76d-a5f4-43d3-a797-af8bbbd32781')\"\n",
              "            title=\"Suggest charts\"\n",
              "            style=\"display:none;\">\n",
              "\n",
              "<svg xmlns=\"http://www.w3.org/2000/svg\" height=\"24px\"viewBox=\"0 0 24 24\"\n",
              "     width=\"24px\">\n",
              "    <g>\n",
              "        <path d=\"M19 3H5c-1.1 0-2 .9-2 2v14c0 1.1.9 2 2 2h14c1.1 0 2-.9 2-2V5c0-1.1-.9-2-2-2zM9 17H7v-7h2v7zm4 0h-2V7h2v10zm4 0h-2v-4h2v4z\"/>\n",
              "    </g>\n",
              "</svg>\n",
              "  </button>\n",
              "\n",
              "<style>\n",
              "  .colab-df-quickchart {\n",
              "      --bg-color: #E8F0FE;\n",
              "      --fill-color: #1967D2;\n",
              "      --hover-bg-color: #E2EBFA;\n",
              "      --hover-fill-color: #174EA6;\n",
              "      --disabled-fill-color: #AAA;\n",
              "      --disabled-bg-color: #DDD;\n",
              "  }\n",
              "\n",
              "  [theme=dark] .colab-df-quickchart {\n",
              "      --bg-color: #3B4455;\n",
              "      --fill-color: #D2E3FC;\n",
              "      --hover-bg-color: #434B5C;\n",
              "      --hover-fill-color: #FFFFFF;\n",
              "      --disabled-bg-color: #3B4455;\n",
              "      --disabled-fill-color: #666;\n",
              "  }\n",
              "\n",
              "  .colab-df-quickchart {\n",
              "    background-color: var(--bg-color);\n",
              "    border: none;\n",
              "    border-radius: 50%;\n",
              "    cursor: pointer;\n",
              "    display: none;\n",
              "    fill: var(--fill-color);\n",
              "    height: 32px;\n",
              "    padding: 0;\n",
              "    width: 32px;\n",
              "  }\n",
              "\n",
              "  .colab-df-quickchart:hover {\n",
              "    background-color: var(--hover-bg-color);\n",
              "    box-shadow: 0 1px 2px rgba(60, 64, 67, 0.3), 0 1px 3px 1px rgba(60, 64, 67, 0.15);\n",
              "    fill: var(--button-hover-fill-color);\n",
              "  }\n",
              "\n",
              "  .colab-df-quickchart-complete:disabled,\n",
              "  .colab-df-quickchart-complete:disabled:hover {\n",
              "    background-color: var(--disabled-bg-color);\n",
              "    fill: var(--disabled-fill-color);\n",
              "    box-shadow: none;\n",
              "  }\n",
              "\n",
              "  .colab-df-spinner {\n",
              "    border: 2px solid var(--fill-color);\n",
              "    border-color: transparent;\n",
              "    border-bottom-color: var(--fill-color);\n",
              "    animation:\n",
              "      spin 1s steps(1) infinite;\n",
              "  }\n",
              "\n",
              "  @keyframes spin {\n",
              "    0% {\n",
              "      border-color: transparent;\n",
              "      border-bottom-color: var(--fill-color);\n",
              "      border-left-color: var(--fill-color);\n",
              "    }\n",
              "    20% {\n",
              "      border-color: transparent;\n",
              "      border-left-color: var(--fill-color);\n",
              "      border-top-color: var(--fill-color);\n",
              "    }\n",
              "    30% {\n",
              "      border-color: transparent;\n",
              "      border-left-color: var(--fill-color);\n",
              "      border-top-color: var(--fill-color);\n",
              "      border-right-color: var(--fill-color);\n",
              "    }\n",
              "    40% {\n",
              "      border-color: transparent;\n",
              "      border-right-color: var(--fill-color);\n",
              "      border-top-color: var(--fill-color);\n",
              "    }\n",
              "    60% {\n",
              "      border-color: transparent;\n",
              "      border-right-color: var(--fill-color);\n",
              "    }\n",
              "    80% {\n",
              "      border-color: transparent;\n",
              "      border-right-color: var(--fill-color);\n",
              "      border-bottom-color: var(--fill-color);\n",
              "    }\n",
              "    90% {\n",
              "      border-color: transparent;\n",
              "      border-bottom-color: var(--fill-color);\n",
              "    }\n",
              "  }\n",
              "</style>\n",
              "\n",
              "  <script>\n",
              "    async function quickchart(key) {\n",
              "      const quickchartButtonEl =\n",
              "        document.querySelector('#' + key + ' button');\n",
              "      quickchartButtonEl.disabled = true;  // To prevent multiple clicks.\n",
              "      quickchartButtonEl.classList.add('colab-df-spinner');\n",
              "      try {\n",
              "        const charts = await google.colab.kernel.invokeFunction(\n",
              "            'suggestCharts', [key], {});\n",
              "      } catch (error) {\n",
              "        console.error('Error during call to suggestCharts:', error);\n",
              "      }\n",
              "      quickchartButtonEl.classList.remove('colab-df-spinner');\n",
              "      quickchartButtonEl.classList.add('colab-df-quickchart-complete');\n",
              "    }\n",
              "    (() => {\n",
              "      let quickchartButtonEl =\n",
              "        document.querySelector('#df-95ade76d-a5f4-43d3-a797-af8bbbd32781 button');\n",
              "      quickchartButtonEl.style.display =\n",
              "        google.colab.kernel.accessAllowed ? 'block' : 'none';\n",
              "    })();\n",
              "  </script>\n",
              "</div>\n",
              "\n",
              "    </div>\n",
              "  </div>\n"
            ],
            "application/vnd.google.colaboratory.intrinsic+json": {
              "type": "dataframe",
              "variable_name": "df",
              "summary": "{\n  \"name\": \"df\",\n  \"rows\": 150,\n  \"fields\": [\n    {\n      \"column\": \"sepal_length\",\n      \"properties\": {\n        \"dtype\": \"number\",\n        \"std\": 0.828066127977863,\n        \"min\": 4.3,\n        \"max\": 7.9,\n        \"num_unique_values\": 35,\n        \"samples\": [\n          6.2,\n          4.5,\n          5.6\n        ],\n        \"semantic_type\": \"\",\n        \"description\": \"\"\n      }\n    },\n    {\n      \"column\": \"sepal_width\",\n      \"properties\": {\n        \"dtype\": \"number\",\n        \"std\": 0.4335943113621737,\n        \"min\": 2.0,\n        \"max\": 4.4,\n        \"num_unique_values\": 23,\n        \"samples\": [\n          2.3,\n          4.0,\n          3.5\n        ],\n        \"semantic_type\": \"\",\n        \"description\": \"\"\n      }\n    },\n    {\n      \"column\": \"petal_length\",\n      \"properties\": {\n        \"dtype\": \"number\",\n        \"std\": 1.7644204199522626,\n        \"min\": 1.0,\n        \"max\": 6.9,\n        \"num_unique_values\": 43,\n        \"samples\": [\n          6.7,\n          3.8,\n          3.7\n        ],\n        \"semantic_type\": \"\",\n        \"description\": \"\"\n      }\n    },\n    {\n      \"column\": \"petal_width\",\n      \"properties\": {\n        \"dtype\": \"number\",\n        \"std\": 0.7631607417008411,\n        \"min\": 0.1,\n        \"max\": 2.5,\n        \"num_unique_values\": 22,\n        \"samples\": [\n          0.2,\n          1.2,\n          1.3\n        ],\n        \"semantic_type\": \"\",\n        \"description\": \"\"\n      }\n    },\n    {\n      \"column\": \"species\",\n      \"properties\": {\n        \"dtype\": \"category\",\n        \"num_unique_values\": 3,\n        \"samples\": [\n          \"Iris-setosa\",\n          \"Iris-versicolor\",\n          \"Iris-virginica\"\n        ],\n        \"semantic_type\": \"\",\n        \"description\": \"\"\n      }\n    }\n  ]\n}"
            }
          },
          "metadata": {},
          "execution_count": 3
        }
      ]
    },
    {
      "cell_type": "code",
      "source": [
        "df.shape"
      ],
      "metadata": {
        "colab": {
          "base_uri": "https://localhost:8080/"
        },
        "id": "PaaAPMV8JkRa",
        "outputId": "29c940f0-d7c5-4c4d-e527-3dcd38a6bcd6"
      },
      "execution_count": null,
      "outputs": [
        {
          "output_type": "execute_result",
          "data": {
            "text/plain": [
              "(150, 5)"
            ]
          },
          "metadata": {},
          "execution_count": 4
        }
      ]
    },
    {
      "cell_type": "code",
      "source": [
        "df.isna().sum()"
      ],
      "metadata": {
        "colab": {
          "base_uri": "https://localhost:8080/"
        },
        "id": "M6xzT74GKc0d",
        "outputId": "43777f92-2c69-456b-c9be-ea22cdf44571"
      },
      "execution_count": null,
      "outputs": [
        {
          "output_type": "execute_result",
          "data": {
            "text/plain": [
              "sepal_length    0\n",
              "sepal_width     0\n",
              "petal_length    0\n",
              "petal_width     0\n",
              "species         0\n",
              "dtype: int64"
            ]
          },
          "metadata": {},
          "execution_count": 5
        }
      ]
    },
    {
      "cell_type": "code",
      "source": [
        "df.duplicated().sum()"
      ],
      "metadata": {
        "colab": {
          "base_uri": "https://localhost:8080/"
        },
        "id": "kgK5Iv5yKnBE",
        "outputId": "24d0dff8-10a6-4bb4-ab99-3f56ea1d234f"
      },
      "execution_count": null,
      "outputs": [
        {
          "output_type": "execute_result",
          "data": {
            "text/plain": [
              "3"
            ]
          },
          "metadata": {},
          "execution_count": 6
        }
      ]
    },
    {
      "cell_type": "code",
      "source": [
        "df.drop_duplicates(inplace=True)"
      ],
      "metadata": {
        "id": "qgTcCePBK3Rg"
      },
      "execution_count": null,
      "outputs": []
    },
    {
      "cell_type": "code",
      "source": [
        "df.shape"
      ],
      "metadata": {
        "colab": {
          "base_uri": "https://localhost:8080/"
        },
        "id": "l5eSXeAYLSLS",
        "outputId": "e9091ded-5240-45ee-9bb2-8a8837c34c4e"
      },
      "execution_count": null,
      "outputs": [
        {
          "output_type": "execute_result",
          "data": {
            "text/plain": [
              "(147, 5)"
            ]
          },
          "metadata": {},
          "execution_count": 8
        }
      ]
    },
    {
      "cell_type": "code",
      "source": [
        "df.info()"
      ],
      "metadata": {
        "colab": {
          "base_uri": "https://localhost:8080/"
        },
        "id": "DLt8J82JLJ87",
        "outputId": "c79afeaa-6ee5-471a-c772-48d9617c84e6"
      },
      "execution_count": null,
      "outputs": [
        {
          "output_type": "stream",
          "name": "stdout",
          "text": [
            "<class 'pandas.core.frame.DataFrame'>\n",
            "Index: 147 entries, 0 to 149\n",
            "Data columns (total 5 columns):\n",
            " #   Column        Non-Null Count  Dtype  \n",
            "---  ------        --------------  -----  \n",
            " 0   sepal_length  147 non-null    float64\n",
            " 1   sepal_width   147 non-null    float64\n",
            " 2   petal_length  147 non-null    float64\n",
            " 3   petal_width   147 non-null    float64\n",
            " 4   species       147 non-null    object \n",
            "dtypes: float64(4), object(1)\n",
            "memory usage: 6.9+ KB\n"
          ]
        }
      ]
    },
    {
      "cell_type": "code",
      "source": [
        "# Storing the data features in the variable 'X' and output in the variable 'y'..\n",
        "x = df.drop(['species'], axis = 1)\n",
        "y = df['species']\n"
      ],
      "metadata": {
        "id": "IXTMGuGTlYJG"
      },
      "execution_count": null,
      "outputs": []
    },
    {
      "cell_type": "code",
      "source": [
        "# Encoding the categorical column 'iris-Species' using Label Encoder.\n",
        "y_encoded = pd.get_dummies(y)"
      ],
      "metadata": {
        "id": "mEXo5GFPk-rd"
      },
      "execution_count": null,
      "outputs": []
    },
    {
      "cell_type": "code",
      "source": [
        "\n",
        "# Splitting the dataset into an 80% training set and a 20% testing set.\n",
        "X_train, X_test, y_train, y_test = train_test_split(x, y_encoded, test_size=0.2, random_state=42)"
      ],
      "metadata": {
        "id": "QM3A3vWhlhXx"
      },
      "execution_count": null,
      "outputs": []
    },
    {
      "cell_type": "code",
      "source": [
        "model=Sequential()\n",
        "model.add(Dense(24, activation=\"relu\", input_dim=4))\n",
        "model.add(Dense(16, activation=\"relu\"))\n",
        "model.add(Dense(8, activation=\"relu\"))\n",
        "model.add(Dense(3,activation=\"softmax\"))"
      ],
      "metadata": {
        "id": "z6Mj0US3ln21"
      },
      "execution_count": null,
      "outputs": []
    },
    {
      "cell_type": "code",
      "source": [
        "model.compile(loss='categorical_crossentropy', optimizer='adam', metrics=['accuracy'])"
      ],
      "metadata": {
        "id": "h0UxHYA2lytS"
      },
      "execution_count": null,
      "outputs": []
    },
    {
      "cell_type": "code",
      "source": [
        "history = model.fit(X_train,y_train, validation_data = (X_test, y_test), epochs=100)"
      ],
      "metadata": {
        "colab": {
          "base_uri": "https://localhost:8080/"
        },
        "id": "xJ7V6BJtl6RU",
        "outputId": "93e7eb97-6378-46e1-913a-ec7b1bfcc2cf"
      },
      "execution_count": null,
      "outputs": [
        {
          "output_type": "stream",
          "name": "stdout",
          "text": [
            "Epoch 1/100\n",
            "4/4 [==============================] - 4s 187ms/step - loss: 1.1698 - accuracy: 0.3162 - val_loss: 1.0718 - val_accuracy: 0.3667\n",
            "Epoch 2/100\n",
            "4/4 [==============================] - 0s 24ms/step - loss: 1.0920 - accuracy: 0.3162 - val_loss: 1.0304 - val_accuracy: 0.3667\n",
            "Epoch 3/100\n",
            "4/4 [==============================] - 0s 24ms/step - loss: 1.0480 - accuracy: 0.3162 - val_loss: 1.0139 - val_accuracy: 0.3667\n",
            "Epoch 4/100\n",
            "4/4 [==============================] - 0s 48ms/step - loss: 1.0291 - accuracy: 0.3162 - val_loss: 1.0022 - val_accuracy: 0.3667\n",
            "Epoch 5/100\n",
            "4/4 [==============================] - 0s 28ms/step - loss: 1.0135 - accuracy: 0.3162 - val_loss: 0.9854 - val_accuracy: 0.3667\n",
            "Epoch 6/100\n",
            "4/4 [==============================] - 0s 22ms/step - loss: 0.9970 - accuracy: 0.3932 - val_loss: 0.9684 - val_accuracy: 0.4667\n",
            "Epoch 7/100\n",
            "4/4 [==============================] - 0s 30ms/step - loss: 0.9828 - accuracy: 0.3675 - val_loss: 0.9545 - val_accuracy: 0.4333\n",
            "Epoch 8/100\n",
            "4/4 [==============================] - 0s 31ms/step - loss: 0.9698 - accuracy: 0.3846 - val_loss: 0.9417 - val_accuracy: 0.5333\n",
            "Epoch 9/100\n",
            "4/4 [==============================] - 0s 31ms/step - loss: 0.9568 - accuracy: 0.4957 - val_loss: 0.9301 - val_accuracy: 0.7667\n",
            "Epoch 10/100\n",
            "4/4 [==============================] - 0s 38ms/step - loss: 0.9440 - accuracy: 0.7179 - val_loss: 0.9185 - val_accuracy: 0.7667\n",
            "Epoch 11/100\n",
            "4/4 [==============================] - 0s 52ms/step - loss: 0.9322 - accuracy: 0.7778 - val_loss: 0.9067 - val_accuracy: 0.7667\n",
            "Epoch 12/100\n",
            "4/4 [==============================] - 0s 27ms/step - loss: 0.9206 - accuracy: 0.7436 - val_loss: 0.8921 - val_accuracy: 0.7333\n",
            "Epoch 13/100\n",
            "4/4 [==============================] - 0s 25ms/step - loss: 0.9082 - accuracy: 0.7179 - val_loss: 0.8781 - val_accuracy: 0.7333\n",
            "Epoch 14/100\n",
            "4/4 [==============================] - 0s 42ms/step - loss: 0.8983 - accuracy: 0.6667 - val_loss: 0.8649 - val_accuracy: 0.7333\n",
            "Epoch 15/100\n",
            "4/4 [==============================] - 0s 26ms/step - loss: 0.8872 - accuracy: 0.6581 - val_loss: 0.8534 - val_accuracy: 0.6333\n",
            "Epoch 16/100\n",
            "4/4 [==============================] - 0s 30ms/step - loss: 0.8769 - accuracy: 0.7009 - val_loss: 0.8433 - val_accuracy: 0.6667\n",
            "Epoch 17/100\n",
            "4/4 [==============================] - 0s 45ms/step - loss: 0.8661 - accuracy: 0.6838 - val_loss: 0.8306 - val_accuracy: 0.6667\n",
            "Epoch 18/100\n",
            "4/4 [==============================] - 0s 25ms/step - loss: 0.8553 - accuracy: 0.6325 - val_loss: 0.8190 - val_accuracy: 0.6000\n",
            "Epoch 19/100\n",
            "4/4 [==============================] - 0s 51ms/step - loss: 0.8454 - accuracy: 0.6325 - val_loss: 0.8078 - val_accuracy: 0.6333\n",
            "Epoch 20/100\n",
            "4/4 [==============================] - 0s 25ms/step - loss: 0.8355 - accuracy: 0.6496 - val_loss: 0.7974 - val_accuracy: 0.6667\n",
            "Epoch 21/100\n",
            "4/4 [==============================] - 0s 26ms/step - loss: 0.8260 - accuracy: 0.6752 - val_loss: 0.7882 - val_accuracy: 0.7000\n",
            "Epoch 22/100\n",
            "4/4 [==============================] - 0s 31ms/step - loss: 0.8177 - accuracy: 0.6667 - val_loss: 0.7783 - val_accuracy: 0.7333\n",
            "Epoch 23/100\n",
            "4/4 [==============================] - 0s 34ms/step - loss: 0.8093 - accuracy: 0.6667 - val_loss: 0.7691 - val_accuracy: 0.6333\n",
            "Epoch 24/100\n",
            "4/4 [==============================] - 0s 28ms/step - loss: 0.8011 - accuracy: 0.6667 - val_loss: 0.7605 - val_accuracy: 0.6667\n",
            "Epoch 25/100\n",
            "4/4 [==============================] - 0s 29ms/step - loss: 0.7937 - accuracy: 0.6667 - val_loss: 0.7529 - val_accuracy: 0.6333\n",
            "Epoch 26/100\n",
            "4/4 [==============================] - 0s 32ms/step - loss: 0.7866 - accuracy: 0.6838 - val_loss: 0.7456 - val_accuracy: 0.6333\n",
            "Epoch 27/100\n",
            "4/4 [==============================] - 0s 26ms/step - loss: 0.7799 - accuracy: 0.6838 - val_loss: 0.7388 - val_accuracy: 0.6333\n",
            "Epoch 28/100\n",
            "4/4 [==============================] - 0s 24ms/step - loss: 0.7739 - accuracy: 0.6667 - val_loss: 0.7318 - val_accuracy: 0.6667\n",
            "Epoch 29/100\n",
            "4/4 [==============================] - 0s 20ms/step - loss: 0.7681 - accuracy: 0.6667 - val_loss: 0.7259 - val_accuracy: 0.6667\n",
            "Epoch 30/100\n",
            "4/4 [==============================] - 0s 18ms/step - loss: 0.7628 - accuracy: 0.6667 - val_loss: 0.7203 - val_accuracy: 0.6333\n",
            "Epoch 31/100\n",
            "4/4 [==============================] - 0s 25ms/step - loss: 0.7579 - accuracy: 0.6752 - val_loss: 0.7151 - val_accuracy: 0.6333\n",
            "Epoch 32/100\n",
            "4/4 [==============================] - 0s 26ms/step - loss: 0.7528 - accuracy: 0.6752 - val_loss: 0.7104 - val_accuracy: 0.6667\n",
            "Epoch 33/100\n",
            "4/4 [==============================] - 0s 31ms/step - loss: 0.7487 - accuracy: 0.6838 - val_loss: 0.7059 - val_accuracy: 0.7000\n",
            "Epoch 34/100\n",
            "4/4 [==============================] - 0s 26ms/step - loss: 0.7442 - accuracy: 0.7265 - val_loss: 0.7012 - val_accuracy: 0.6667\n",
            "Epoch 35/100\n",
            "4/4 [==============================] - 0s 34ms/step - loss: 0.7401 - accuracy: 0.7350 - val_loss: 0.6970 - val_accuracy: 0.7000\n",
            "Epoch 36/100\n",
            "4/4 [==============================] - 0s 29ms/step - loss: 0.7363 - accuracy: 0.7436 - val_loss: 0.6930 - val_accuracy: 0.7333\n",
            "Epoch 37/100\n",
            "4/4 [==============================] - 0s 24ms/step - loss: 0.7327 - accuracy: 0.7607 - val_loss: 0.6892 - val_accuracy: 0.7667\n",
            "Epoch 38/100\n",
            "4/4 [==============================] - 0s 31ms/step - loss: 0.7288 - accuracy: 0.8120 - val_loss: 0.6856 - val_accuracy: 0.8000\n",
            "Epoch 39/100\n",
            "4/4 [==============================] - 0s 25ms/step - loss: 0.7252 - accuracy: 0.8718 - val_loss: 0.6822 - val_accuracy: 0.8333\n",
            "Epoch 40/100\n",
            "4/4 [==============================] - 0s 53ms/step - loss: 0.7214 - accuracy: 0.9060 - val_loss: 0.6788 - val_accuracy: 0.9000\n",
            "Epoch 41/100\n",
            "4/4 [==============================] - 0s 41ms/step - loss: 0.7179 - accuracy: 0.9402 - val_loss: 0.6752 - val_accuracy: 0.8667\n",
            "Epoch 42/100\n",
            "4/4 [==============================] - 0s 35ms/step - loss: 0.7141 - accuracy: 0.9658 - val_loss: 0.6716 - val_accuracy: 0.8667\n",
            "Epoch 43/100\n",
            "4/4 [==============================] - 0s 38ms/step - loss: 0.7104 - accuracy: 0.9487 - val_loss: 0.6682 - val_accuracy: 0.8667\n",
            "Epoch 44/100\n",
            "4/4 [==============================] - 0s 43ms/step - loss: 0.7068 - accuracy: 0.9573 - val_loss: 0.6646 - val_accuracy: 0.8667\n",
            "Epoch 45/100\n",
            "4/4 [==============================] - 0s 31ms/step - loss: 0.7031 - accuracy: 0.9573 - val_loss: 0.6610 - val_accuracy: 0.8667\n",
            "Epoch 46/100\n",
            "4/4 [==============================] - 0s 34ms/step - loss: 0.6992 - accuracy: 0.9402 - val_loss: 0.6573 - val_accuracy: 0.8667\n",
            "Epoch 47/100\n",
            "4/4 [==============================] - 0s 53ms/step - loss: 0.6956 - accuracy: 0.9231 - val_loss: 0.6537 - val_accuracy: 0.8667\n",
            "Epoch 48/100\n",
            "4/4 [==============================] - 0s 47ms/step - loss: 0.6919 - accuracy: 0.9145 - val_loss: 0.6503 - val_accuracy: 0.8333\n",
            "Epoch 49/100\n",
            "4/4 [==============================] - 0s 35ms/step - loss: 0.6876 - accuracy: 0.9316 - val_loss: 0.6469 - val_accuracy: 0.8333\n",
            "Epoch 50/100\n",
            "4/4 [==============================] - 0s 26ms/step - loss: 0.6838 - accuracy: 0.9316 - val_loss: 0.6438 - val_accuracy: 0.8333\n",
            "Epoch 51/100\n",
            "4/4 [==============================] - 0s 26ms/step - loss: 0.6798 - accuracy: 0.8632 - val_loss: 0.6403 - val_accuracy: 0.7667\n",
            "Epoch 52/100\n",
            "4/4 [==============================] - 0s 35ms/step - loss: 0.6758 - accuracy: 0.8803 - val_loss: 0.6366 - val_accuracy: 0.8333\n",
            "Epoch 53/100\n",
            "4/4 [==============================] - 0s 26ms/step - loss: 0.6712 - accuracy: 0.9231 - val_loss: 0.6328 - val_accuracy: 0.8000\n",
            "Epoch 54/100\n",
            "4/4 [==============================] - 0s 40ms/step - loss: 0.6673 - accuracy: 0.8462 - val_loss: 0.6293 - val_accuracy: 0.7667\n",
            "Epoch 55/100\n",
            "4/4 [==============================] - 0s 26ms/step - loss: 0.6623 - accuracy: 0.8632 - val_loss: 0.6256 - val_accuracy: 0.7667\n",
            "Epoch 56/100\n",
            "4/4 [==============================] - 0s 27ms/step - loss: 0.6581 - accuracy: 0.9060 - val_loss: 0.6220 - val_accuracy: 0.7667\n",
            "Epoch 57/100\n",
            "4/4 [==============================] - 0s 41ms/step - loss: 0.6532 - accuracy: 0.8974 - val_loss: 0.6176 - val_accuracy: 0.7667\n",
            "Epoch 58/100\n",
            "4/4 [==============================] - 0s 41ms/step - loss: 0.6486 - accuracy: 0.8803 - val_loss: 0.6133 - val_accuracy: 0.8000\n",
            "Epoch 59/100\n",
            "4/4 [==============================] - 0s 25ms/step - loss: 0.6443 - accuracy: 0.8291 - val_loss: 0.6090 - val_accuracy: 0.8000\n",
            "Epoch 60/100\n",
            "4/4 [==============================] - 0s 33ms/step - loss: 0.6383 - accuracy: 0.8803 - val_loss: 0.6059 - val_accuracy: 0.8333\n",
            "Epoch 61/100\n",
            "4/4 [==============================] - 0s 33ms/step - loss: 0.6341 - accuracy: 0.9487 - val_loss: 0.6009 - val_accuracy: 0.8000\n",
            "Epoch 62/100\n",
            "4/4 [==============================] - 0s 31ms/step - loss: 0.6274 - accuracy: 0.8718 - val_loss: 0.5962 - val_accuracy: 0.8000\n",
            "Epoch 63/100\n",
            "4/4 [==============================] - 0s 31ms/step - loss: 0.6227 - accuracy: 0.8376 - val_loss: 0.5917 - val_accuracy: 0.8000\n",
            "Epoch 64/100\n",
            "4/4 [==============================] - 0s 31ms/step - loss: 0.6168 - accuracy: 0.8376 - val_loss: 0.5875 - val_accuracy: 0.8000\n",
            "Epoch 65/100\n",
            "4/4 [==============================] - 0s 26ms/step - loss: 0.6109 - accuracy: 0.8974 - val_loss: 0.5836 - val_accuracy: 0.8000\n",
            "Epoch 66/100\n",
            "4/4 [==============================] - 0s 54ms/step - loss: 0.6075 - accuracy: 0.8376 - val_loss: 0.5781 - val_accuracy: 0.8000\n",
            "Epoch 67/100\n",
            "4/4 [==============================] - 0s 26ms/step - loss: 0.5985 - accuracy: 0.8632 - val_loss: 0.5739 - val_accuracy: 0.8000\n",
            "Epoch 68/100\n",
            "4/4 [==============================] - 0s 20ms/step - loss: 0.5957 - accuracy: 0.9402 - val_loss: 0.5686 - val_accuracy: 0.8000\n",
            "Epoch 69/100\n",
            "4/4 [==============================] - 0s 34ms/step - loss: 0.5890 - accuracy: 0.8803 - val_loss: 0.5631 - val_accuracy: 0.8000\n",
            "Epoch 70/100\n",
            "4/4 [==============================] - 0s 26ms/step - loss: 0.5809 - accuracy: 0.8205 - val_loss: 0.5573 - val_accuracy: 0.8000\n",
            "Epoch 71/100\n",
            "4/4 [==============================] - 0s 26ms/step - loss: 0.5727 - accuracy: 0.8632 - val_loss: 0.5515 - val_accuracy: 0.8000\n",
            "Epoch 72/100\n",
            "4/4 [==============================] - 0s 30ms/step - loss: 0.5656 - accuracy: 0.9231 - val_loss: 0.5468 - val_accuracy: 0.8000\n",
            "Epoch 73/100\n",
            "4/4 [==============================] - 0s 26ms/step - loss: 0.5587 - accuracy: 0.9231 - val_loss: 0.5398 - val_accuracy: 0.8000\n",
            "Epoch 74/100\n",
            "4/4 [==============================] - 0s 32ms/step - loss: 0.5503 - accuracy: 0.9060 - val_loss: 0.5334 - val_accuracy: 0.8000\n",
            "Epoch 75/100\n",
            "4/4 [==============================] - 0s 44ms/step - loss: 0.5421 - accuracy: 0.9231 - val_loss: 0.5270 - val_accuracy: 0.8000\n",
            "Epoch 76/100\n",
            "4/4 [==============================] - 0s 25ms/step - loss: 0.5355 - accuracy: 0.9145 - val_loss: 0.5204 - val_accuracy: 0.8000\n",
            "Epoch 77/100\n",
            "4/4 [==============================] - 0s 74ms/step - loss: 0.5252 - accuracy: 0.9316 - val_loss: 0.5139 - val_accuracy: 0.8667\n",
            "Epoch 78/100\n",
            "4/4 [==============================] - 0s 34ms/step - loss: 0.5172 - accuracy: 0.9658 - val_loss: 0.5075 - val_accuracy: 0.9000\n",
            "Epoch 79/100\n",
            "4/4 [==============================] - 0s 44ms/step - loss: 0.5107 - accuracy: 0.9573 - val_loss: 0.4988 - val_accuracy: 0.8000\n",
            "Epoch 80/100\n",
            "4/4 [==============================] - 0s 47ms/step - loss: 0.4977 - accuracy: 0.9573 - val_loss: 0.4905 - val_accuracy: 0.8667\n",
            "Epoch 81/100\n",
            "4/4 [==============================] - 0s 50ms/step - loss: 0.4872 - accuracy: 0.9658 - val_loss: 0.4820 - val_accuracy: 0.9000\n",
            "Epoch 82/100\n",
            "4/4 [==============================] - 0s 29ms/step - loss: 0.4768 - accuracy: 0.9658 - val_loss: 0.4727 - val_accuracy: 0.9333\n",
            "Epoch 83/100\n",
            "4/4 [==============================] - 0s 21ms/step - loss: 0.4665 - accuracy: 0.9744 - val_loss: 0.4631 - val_accuracy: 0.9333\n",
            "Epoch 84/100\n",
            "4/4 [==============================] - 0s 25ms/step - loss: 0.4535 - accuracy: 0.9744 - val_loss: 0.4534 - val_accuracy: 0.9333\n",
            "Epoch 85/100\n",
            "4/4 [==============================] - 0s 24ms/step - loss: 0.4427 - accuracy: 0.9658 - val_loss: 0.4440 - val_accuracy: 0.9333\n",
            "Epoch 86/100\n",
            "4/4 [==============================] - 0s 31ms/step - loss: 0.4312 - accuracy: 0.9658 - val_loss: 0.4330 - val_accuracy: 0.9333\n",
            "Epoch 87/100\n",
            "4/4 [==============================] - 0s 24ms/step - loss: 0.4157 - accuracy: 0.9744 - val_loss: 0.4208 - val_accuracy: 0.9333\n",
            "Epoch 88/100\n",
            "4/4 [==============================] - 0s 19ms/step - loss: 0.4030 - accuracy: 0.9744 - val_loss: 0.4091 - val_accuracy: 0.9333\n",
            "Epoch 89/100\n",
            "4/4 [==============================] - 0s 24ms/step - loss: 0.3910 - accuracy: 0.9744 - val_loss: 0.3972 - val_accuracy: 0.9333\n",
            "Epoch 90/100\n",
            "4/4 [==============================] - 0s 23ms/step - loss: 0.3761 - accuracy: 0.9744 - val_loss: 0.3907 - val_accuracy: 0.9333\n",
            "Epoch 91/100\n",
            "4/4 [==============================] - 0s 25ms/step - loss: 0.3629 - accuracy: 0.9744 - val_loss: 0.3772 - val_accuracy: 0.9333\n",
            "Epoch 92/100\n",
            "4/4 [==============================] - 0s 24ms/step - loss: 0.3463 - accuracy: 0.9744 - val_loss: 0.3617 - val_accuracy: 0.9333\n",
            "Epoch 93/100\n",
            "4/4 [==============================] - 0s 26ms/step - loss: 0.3334 - accuracy: 0.9829 - val_loss: 0.3485 - val_accuracy: 0.9333\n",
            "Epoch 94/100\n",
            "4/4 [==============================] - 0s 24ms/step - loss: 0.3194 - accuracy: 0.9829 - val_loss: 0.3388 - val_accuracy: 0.9333\n",
            "Epoch 95/100\n",
            "4/4 [==============================] - 0s 29ms/step - loss: 0.3048 - accuracy: 0.9744 - val_loss: 0.3294 - val_accuracy: 0.9333\n",
            "Epoch 96/100\n",
            "4/4 [==============================] - 0s 26ms/step - loss: 0.2926 - accuracy: 0.9829 - val_loss: 0.3155 - val_accuracy: 0.9333\n",
            "Epoch 97/100\n",
            "4/4 [==============================] - 0s 26ms/step - loss: 0.2783 - accuracy: 0.9829 - val_loss: 0.3055 - val_accuracy: 0.9333\n",
            "Epoch 98/100\n",
            "4/4 [==============================] - 0s 30ms/step - loss: 0.2662 - accuracy: 0.9829 - val_loss: 0.2954 - val_accuracy: 0.9333\n",
            "Epoch 99/100\n",
            "4/4 [==============================] - 0s 23ms/step - loss: 0.2531 - accuracy: 0.9829 - val_loss: 0.2870 - val_accuracy: 0.9333\n",
            "Epoch 100/100\n",
            "4/4 [==============================] - 0s 24ms/step - loss: 0.2416 - accuracy: 0.9829 - val_loss: 0.2772 - val_accuracy: 0.9333\n"
          ]
        }
      ]
    },
    {
      "cell_type": "code",
      "source": [
        "sns.set(style=\"whitegrid\")\n",
        "sns.lineplot(history.history['loss'], label='Training Loss')\n",
        "sns.lineplot(history.history['val_loss'], label='Testing Loss')\n",
        "plt.ylabel('loss')\n",
        "plt.xlabel('Epochs')\n",
        "\n",
        "plt.legend()\n",
        "plt.show()"
      ],
      "metadata": {
        "colab": {
          "base_uri": "https://localhost:8080/",
          "height": 458
        },
        "id": "vDt9xbpRogNH",
        "outputId": "7fbfb680-d231-476f-bb34-37e538f240a7"
      },
      "execution_count": null,
      "outputs": [
        {
          "output_type": "display_data",
          "data": {
            "text/plain": [
              "<Figure size 640x480 with 1 Axes>"
            ],
            "image/png": "[encoded data removed]"
          },
          "metadata": {}
        }
      ]
    },
    {
      "cell_type": "code",
      "source": [
        "loss_test, accuracy_test = model.evaluate(X_test, y_test, verbose=0)\n",
        "loss_train, accuracy_train = model.evaluate(X_train, y_train, verbose=0)\n",
        "print('Testing Loss: %.2f' % loss_test)\n",
        "print('Testing Accuracy: %.2f' % (accuracy_test * 100) + '%')\n",
        "print(\"*\" * 30)\n",
        "print('Training Loss: %.2f' % loss_train)\n",
        "print('Training Accuracy: %.2f' % (accuracy_train * 100) + '%')"
      ],
      "metadata": {
        "colab": {
          "base_uri": "https://localhost:8080/"
        },
        "id": "SaapR9oRopEY",
        "outputId": "1ae3e923-7b76-4c39-96bc-759a57551cc6"
      },
      "execution_count": null,
      "outputs": [
        {
          "output_type": "stream",
          "name": "stdout",
          "text": [
            "Testing Loss: 0.28\n",
            "Testing Accuracy: 93.33%\n",
            "******************************\n",
            "Training Loss: 0.23\n",
            "Training Accuracy: 98.29%\n"
          ]
        }
      ]
    }
  ]
}